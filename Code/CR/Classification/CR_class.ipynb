{
 "cells": [
  {
   "cell_type": "markdown",
   "metadata": {
    "id": "j4OQjs227FMt"
   },
   "source": [
    "# Compression resistance classification"
   ]
  },
  {
   "cell_type": "markdown",
   "metadata": {
    "id": "e3is49BYzPKQ"
   },
   "source": [
    "## Library loading, settings and dataset load"
   ]
  },
  {
   "cell_type": "markdown",
   "metadata": {},
   "source": [
    "Hide warnings"
   ]
  },
  {
   "cell_type": "code",
   "execution_count": 1,
   "metadata": {},
   "outputs": [],
   "source": [
    "import warnings\n",
    "warnings.filterwarnings(\"ignore\", category=UserWarning)\n",
    "warnings.filterwarnings(\"ignore\", category=FutureWarning)"
   ]
  },
  {
   "cell_type": "markdown",
   "metadata": {},
   "source": [
    "Main libraries load"
   ]
  },
  {
   "cell_type": "code",
   "execution_count": 2,
   "metadata": {},
   "outputs": [],
   "source": [
    "import pandas as pd\n",
    "import numpy as np\n",
    "import seaborn as sns\n",
    "import matplotlib\n",
    "import matplotlib.pyplot as plt\n",
    "import time"
   ]
  },
  {
   "cell_type": "markdown",
   "metadata": {},
   "source": [
    "Additional libraries"
   ]
  },
  {
   "cell_type": "code",
   "execution_count": 3,
   "metadata": {
    "id": "da1eebb1"
   },
   "outputs": [],
   "source": [
    "from sklearn import preprocessing\n",
    "from sklearn.pipeline import Pipeline\n",
    "from sklearn.compose import ColumnTransformer\n",
    "from sklearn.preprocessing import StandardScaler, OrdinalEncoder, MinMaxScaler\n",
    "from sklearn.model_selection import train_test_split, RandomizedSearchCV\n",
    "from sklearn.model_selection import KFold, cross_val_score, GridSearchCV\n",
    "from yellowbrick.classifier import ConfusionMatrix\n",
    "from sklearn.tree import DecisionTreeClassifier\n",
    "from sklearn.ensemble import RandomForestClassifier, GradientBoostingClassifier\n",
    "from sklearn.linear_model import LogisticRegression, RidgeClassifier\n",
    "from sklearn.neighbors import KNeighborsClassifier\n",
    "from sklearn.neural_network import MLPClassifier\n",
    "from sklearn.preprocessing import LabelEncoder\n",
    "from xgboost import XGBClassifier\n",
    "from sklearn.metrics import accuracy_score, precision_score, recall_score \n",
    "from sklearn.metrics import f1_score, confusion_matrix, classification_report"
   ]
  },
  {
   "cell_type": "markdown",
   "metadata": {
    "id": "qqmC75jRzkAp"
   },
   "source": [
    "Load Compression Resistance dataset"
   ]
  },
  {
   "cell_type": "code",
   "execution_count": 4,
   "metadata": {
    "id": "6e650d2f"
   },
   "outputs": [],
   "source": [
    "path = '/Users/manolo/Documents/Docencia/Tesis Doctorales/Elena Albeira Guirado Lucinio/Resistencia fuego/Datasets/'"
   ]
  },
  {
   "cell_type": "code",
   "execution_count": 5,
   "metadata": {
    "id": "gKkHDgKR8U1w"
   },
   "outputs": [],
   "source": [
    "df = pd.read_excel(path+'CR_FS_class.xlsx')"
   ]
  },
  {
   "cell_type": "code",
   "execution_count": 6,
   "metadata": {
    "colab": {
     "base_uri": "https://localhost:8080/",
     "height": 530
    },
    "id": "WmPn5p3U8skm",
    "outputId": "c149bfef-777a-457f-f922-0601b2af0e01"
   },
   "outputs": [
    {
     "data": {
      "text/html": [
       "<div>\n",
       "<style scoped>\n",
       "    .dataframe tbody tr th:only-of-type {\n",
       "        vertical-align: middle;\n",
       "    }\n",
       "\n",
       "    .dataframe tbody tr th {\n",
       "        vertical-align: top;\n",
       "    }\n",
       "\n",
       "    .dataframe thead th {\n",
       "        text-align: right;\n",
       "    }\n",
       "</style>\n",
       "<table border=\"1\" class=\"dataframe\">\n",
       "  <thead>\n",
       "    <tr style=\"text-align: right;\">\n",
       "      <th></th>\n",
       "      <th>Water/solid ratio</th>\n",
       "      <th>Density</th>\n",
       "      <th>Gypsum</th>\n",
       "      <th>Fiberglass</th>\n",
       "      <th>Coal Fly Ash</th>\n",
       "      <th>Portland concrete</th>\n",
       "      <th>Ladle slag</th>\n",
       "      <th>Orujillo ash</th>\n",
       "      <th>Cl2Mg</th>\n",
       "      <th>Metallurgical slag</th>\n",
       "      <th>Coal slag</th>\n",
       "      <th>CR</th>\n",
       "    </tr>\n",
       "  </thead>\n",
       "  <tbody>\n",
       "    <tr>\n",
       "      <th>0</th>\n",
       "      <td>0.4</td>\n",
       "      <td>1309.000000</td>\n",
       "      <td>20.0</td>\n",
       "      <td>0.0</td>\n",
       "      <td>80</td>\n",
       "      <td>0.0</td>\n",
       "      <td>0</td>\n",
       "      <td>0</td>\n",
       "      <td>0</td>\n",
       "      <td>0</td>\n",
       "      <td>0</td>\n",
       "      <td>1 - 5 MPa</td>\n",
       "    </tr>\n",
       "    <tr>\n",
       "      <th>1</th>\n",
       "      <td>0.4</td>\n",
       "      <td>1371.000000</td>\n",
       "      <td>20.0</td>\n",
       "      <td>0.0</td>\n",
       "      <td>80</td>\n",
       "      <td>0.0</td>\n",
       "      <td>0</td>\n",
       "      <td>0</td>\n",
       "      <td>0</td>\n",
       "      <td>0</td>\n",
       "      <td>0</td>\n",
       "      <td>1 - 5 MPa</td>\n",
       "    </tr>\n",
       "    <tr>\n",
       "      <th>2</th>\n",
       "      <td>0.4</td>\n",
       "      <td>849.841788</td>\n",
       "      <td>20.0</td>\n",
       "      <td>0.0</td>\n",
       "      <td>80</td>\n",
       "      <td>0.0</td>\n",
       "      <td>0</td>\n",
       "      <td>0</td>\n",
       "      <td>0</td>\n",
       "      <td>0</td>\n",
       "      <td>0</td>\n",
       "      <td>0 - 1 MPa</td>\n",
       "    </tr>\n",
       "    <tr>\n",
       "      <th>3</th>\n",
       "      <td>0.4</td>\n",
       "      <td>1042.269832</td>\n",
       "      <td>20.0</td>\n",
       "      <td>0.0</td>\n",
       "      <td>80</td>\n",
       "      <td>0.0</td>\n",
       "      <td>0</td>\n",
       "      <td>0</td>\n",
       "      <td>0</td>\n",
       "      <td>0</td>\n",
       "      <td>0</td>\n",
       "      <td>0 - 1 MPa</td>\n",
       "    </tr>\n",
       "    <tr>\n",
       "      <th>4</th>\n",
       "      <td>0.4</td>\n",
       "      <td>1050.458259</td>\n",
       "      <td>20.0</td>\n",
       "      <td>0.0</td>\n",
       "      <td>80</td>\n",
       "      <td>0.0</td>\n",
       "      <td>0</td>\n",
       "      <td>0</td>\n",
       "      <td>0</td>\n",
       "      <td>0</td>\n",
       "      <td>0</td>\n",
       "      <td>0 - 1 MPa</td>\n",
       "    </tr>\n",
       "  </tbody>\n",
       "</table>\n",
       "</div>"
      ],
      "text/plain": [
       "   Water/solid ratio      Density  Gypsum  Fiberglass  Coal Fly Ash  \\\n",
       "0                0.4  1309.000000    20.0         0.0            80   \n",
       "1                0.4  1371.000000    20.0         0.0            80   \n",
       "2                0.4   849.841788    20.0         0.0            80   \n",
       "3                0.4  1042.269832    20.0         0.0            80   \n",
       "4                0.4  1050.458259    20.0         0.0            80   \n",
       "\n",
       "   Portland concrete  Ladle slag  Orujillo ash  Cl2Mg  Metallurgical slag  \\\n",
       "0                0.0           0             0      0                   0   \n",
       "1                0.0           0             0      0                   0   \n",
       "2                0.0           0             0      0                   0   \n",
       "3                0.0           0             0      0                   0   \n",
       "4                0.0           0             0      0                   0   \n",
       "\n",
       "   Coal slag         CR  \n",
       "0          0  1 - 5 MPa  \n",
       "1          0  1 - 5 MPa  \n",
       "2          0  0 - 1 MPa  \n",
       "3          0  0 - 1 MPa  \n",
       "4          0  0 - 1 MPa  "
      ]
     },
     "execution_count": 6,
     "metadata": {},
     "output_type": "execute_result"
    }
   ],
   "source": [
    "df.head()"
   ]
  },
  {
   "cell_type": "code",
   "execution_count": 7,
   "metadata": {
    "colab": {
     "base_uri": "https://localhost:8080/"
    },
    "id": "Gg2T9YvWEm8v",
    "outputId": "818fd763-57a0-449f-f8cf-d22aeff8884c"
   },
   "outputs": [
    {
     "name": "stdout",
     "output_type": "stream",
     "text": [
      "<class 'pandas.core.frame.DataFrame'>\n",
      "RangeIndex: 303 entries, 0 to 302\n",
      "Data columns (total 12 columns):\n",
      " #   Column              Non-Null Count  Dtype  \n",
      "---  ------              --------------  -----  \n",
      " 0   Water/solid ratio   303 non-null    float64\n",
      " 1   Density             303 non-null    float64\n",
      " 2   Gypsum              303 non-null    float64\n",
      " 3   Fiberglass          303 non-null    float64\n",
      " 4   Coal Fly Ash        303 non-null    int64  \n",
      " 5   Portland concrete   303 non-null    float64\n",
      " 6   Ladle slag          303 non-null    int64  \n",
      " 7   Orujillo ash        303 non-null    int64  \n",
      " 8   Cl2Mg               303 non-null    int64  \n",
      " 9   Metallurgical slag  303 non-null    int64  \n",
      " 10  Coal slag           303 non-null    int64  \n",
      " 11  CR                  303 non-null    object \n",
      "dtypes: float64(5), int64(6), object(1)\n",
      "memory usage: 28.5+ KB\n"
     ]
    }
   ],
   "source": [
    "df.info()"
   ]
  },
  {
   "cell_type": "code",
   "execution_count": 8,
   "metadata": {},
   "outputs": [],
   "source": [
    "cat_feat = []\n",
    "bin_feat = []\n",
    "target = 'CR'\n",
    "drop = []\n",
    "exc = []\n",
    "exclude = cat_feat + bin_feat + [target] + drop + exc\n",
    "num_feat = [col for col in df.columns if col not in exclude]"
   ]
  },
  {
   "cell_type": "code",
   "execution_count": 9,
   "metadata": {},
   "outputs": [],
   "source": [
    "label_encoder = LabelEncoder()\n",
    "df[target] = label_encoder.fit_transform(df[target])"
   ]
  },
  {
   "cell_type": "code",
   "execution_count": 10,
   "metadata": {
    "colab": {
     "base_uri": "https://localhost:8080/"
    },
    "id": "s-Y50ED6ADCR",
    "outputId": "5776da4f-1393-4126-c16c-7b86d5723bfc",
    "scrolled": true
   },
   "outputs": [
    {
     "name": "stdout",
     "output_type": "stream",
     "text": [
      "Original dataframe size (303, 12)\n",
      "Datafrane size without FS target for training (212, 11)\n",
      "Target for training (212,)\n",
      "Dataframe size without target for testing (91, 11)\n",
      "Target for testing (91,)\n"
     ]
    }
   ],
   "source": [
    "X_train, X_test, y_train, y_test = train_test_split(\n",
    "                                        df.drop(columns = target),\n",
    "                                        df[target],\n",
    "                                        test_size=0.30,\n",
    "                                        random_state = 12\n",
    "                                    )\n",
    "\n",
    "print(\"Original dataframe size\",df.shape)\n",
    "print(\"Datafrane size without FS target for training\", X_train.shape)\n",
    "print(\"Target for training\", y_train.shape)\n",
    "print(\"Dataframe size without target for testing\", X_test.shape)\n",
    "print(\"Target for testing\", y_test.shape)"
   ]
  },
  {
   "cell_type": "markdown",
   "metadata": {},
   "source": [
    "Transformer for numerical variable standardization and categorical variable one-hot encoding"
   ]
  },
  {
   "cell_type": "code",
   "execution_count": 11,
   "metadata": {},
   "outputs": [],
   "source": [
    "num_feat = X_train.columns"
   ]
  },
  {
   "cell_type": "code",
   "execution_count": 12,
   "metadata": {},
   "outputs": [],
   "source": [
    "data_transformer = ColumnTransformer(\n",
    "  transformers = [\n",
    "    ('rescale numeric', preprocessing.StandardScaler(), num_feat),\n",
    "    ('recode categorical', \n",
    "      preprocessing.OneHotEncoder(handle_unknown = 'ignore', sparse_output = False), \n",
    "      cat_feat)\n",
    "    ])"
   ]
  },
  {
   "cell_type": "markdown",
   "metadata": {
    "id": "MyRu7wAKVc1a"
   },
   "source": [
    "### Pipeline set-up"
   ]
  },
  {
   "cell_type": "code",
   "execution_count": 13,
   "metadata": {
    "colab": {
     "base_uri": "https://localhost:8080/"
    },
    "id": "djJYmvIXCbbP",
    "outputId": "ee024d5f-85d6-4b0b-fb0b-b862c6d885f4"
   },
   "outputs": [],
   "source": [
    "dtc = Pipeline(steps = [(\"prep\", data_transformer), ('dtc', DecisionTreeClassifier())])\n",
    "rfc = Pipeline(steps = [(\"prep\", data_transformer), ('rfc', RandomForestClassifier())])\n",
    "gbc = Pipeline(steps = [(\"prep\", data_transformer), ('gbc', GradientBoostingClassifier())])\n",
    "lc = Pipeline(steps=[(\"prep\", data_transformer), (\"lc\", LogisticRegression())])\n",
    "ridge = Pipeline(steps=[(\"prep\", data_transformer), (\"ridge\", RidgeClassifier())])\n",
    "knc = Pipeline(steps=[(\"prep\", data_transformer), (\"knc\", KNeighborsClassifier())])\n",
    "mlp = Pipeline(steps=[(\"prep\", data_transformer), (\"mlp\", MLPClassifier())])\n",
    "xgc = Pipeline(steps=[(\"prep\", data_transformer), (\"xgc\", XGBClassifier())])"
   ]
  },
  {
   "cell_type": "markdown",
   "metadata": {
    "id": "APXzIQmvCpoe"
   },
   "source": [
    "### RandomSearch"
   ]
  },
  {
   "cell_type": "code",
   "execution_count": 14,
   "metadata": {
    "colab": {
     "base_uri": "https://localhost:8080/"
    },
    "id": "Eg9HSp5WCxna",
    "outputId": "2a5211ab-f151-479b-f576-6936a19cb296",
    "scrolled": true
   },
   "outputs": [],
   "source": [
    "# Decision tree\n",
    "grid_rs_dtc = {\"dtc__max_depth\": list(np.arange(1, 20, step = 1)) \n",
    "              }\n",
    "# Random Forest\n",
    "grid_rs_rfc = {\"rfc__n_estimators\": list(np.arange(1, 100, step = 1)), \n",
    "                     \n",
    "                     \"rfc__max_depth\": list(np.arange(1, 50, step = 1)), \n",
    "                      \n",
    "                     \"rfc__max_features\": [\"sqrt\", 3, 4, 5, 6] \n",
    "                     }\n",
    "# Gradient Boosting\n",
    "grid_rs_gbc = {\"gbc__loss\": ['log_loss'],\n",
    "                          \"gbc__learning_rate\": list(np.arange(0.05, 1, step = 0.01)), \n",
    "                          \n",
    "                          \"gbc__n_estimators\": list(np.arange(5, 30, step = 1)), \n",
    "                          \n",
    "                          \"gbc__max_depth\": list(np.arange(15, 30, step = 1)), \n",
    "                          \n",
    "                          \"gbc__subsample\": list(np.arange(0.5, 1, step = 0.05)), \n",
    "                          \n",
    "                          \"gbc__max_features\": [\"sqrt\", 2, 4, 6, 8], \n",
    "                          }\n",
    "# Ridge\n",
    "grid_rs_ridge= {'ridge__alpha': list(np.arange(0.1, 5, step = 0.1))}\n",
    "\n",
    "# Logistic regression\n",
    "grid_rs_lc = {'lc__C': list(np.arange(0.1, 5, step=0.1))}\n",
    "\n",
    "# KNeighbors\n",
    "grid_rs_knc = {\"knc__n_neighbors\": list(np.arange(1, 15, step = 1)), \n",
    "                  \"knc__weights\": [\"uniform\",\"distance\"]  \n",
    "                  }\n",
    "\n",
    "# Multi layer perceptron\n",
    "grid_rs_mlp = {\"mlp__hidden_layer_sizes\": [(4,),             \n",
    "                                        (4,4),\n",
    "                                           (8,),             \n",
    "                                        (8,8),\n",
    "                                           (16,),             \n",
    "                                        (16,16),\n",
    "                                        (32,),          \n",
    "                                        (32,32)],\n",
    "            \n",
    "           \"mlp__activation\": [\"relu\"], \n",
    "            \n",
    "           \"mlp__solver\": [\"adam\"], \n",
    "            \n",
    "           \"mlp__alpha\": list(np.arange(0.05, 0.3, step = 0.05)), \n",
    "            \n",
    "           \"mlp__validation_fraction\": list(np.arange(0.05, 0.3, step = 0.05)), \n",
    "           \"mlp__early_stopping\": [True],    \n",
    "           \"mlp__max_iter\": [10000],\n",
    "            \n",
    "           \"mlp__learning_rate_init\": list(np.arange(0.001, 0.1, step = 0.01)) \n",
    "           }\n",
    "\n",
    "# XGBClassifier\n",
    "\n",
    "grid_rs_xgc = {'xgc__max_depth': list(np.arange(1, 20, step = 1)),\n",
    "            'xgc__learning_rate': list(np.arange(0.01, 1, step = 0.01)),\n",
    "            'xgc__n_estimators': list(np.arange(100, 200, step = 10))\n",
    "            }"
   ]
  },
  {
   "cell_type": "code",
   "execution_count": 15,
   "metadata": {
    "colab": {
     "base_uri": "https://localhost:8080/",
     "height": 494
    },
    "id": "5zEe3TLhC1U9",
    "outputId": "621e9cbd-def7-4c4d-8c97-bfa99d0db4c8",
    "scrolled": true
   },
   "outputs": [],
   "source": [
    "rs_dtc = RandomizedSearchCV(dtc, \n",
    "                    grid_rs_dtc,\n",
    "                    n_iter = 100, \n",
    "                    cv=10, \n",
    "                    scoring=\"accuracy\", \n",
    "                    verbose=1, \n",
    "                    n_jobs=-1)\n",
    "\n",
    "rs_rfc = RandomizedSearchCV(rfc, \n",
    "                    grid_rs_rfc,\n",
    "                    n_iter = 100, \n",
    "                    cv=10, \n",
    "                    scoring=\"accuracy\", \n",
    "                    verbose=1, \n",
    "                    n_jobs=-1)\n",
    "\n",
    "rs_gbc = RandomizedSearchCV(gbc, \n",
    "                    grid_rs_gbc,\n",
    "                    n_iter = 100, \n",
    "                    cv=10, \n",
    "                    scoring=\"accuracy\", \n",
    "                    verbose=1, \n",
    "                    n_jobs=-1)\n",
    "\n",
    "rs_ridge = RandomizedSearchCV(ridge, \n",
    "                    grid_rs_ridge,\n",
    "                    n_iter = 100, \n",
    "                    cv=10, \n",
    "                    scoring=\"accuracy\", \n",
    "                    verbose=1, \n",
    "                    n_jobs=-1)\n",
    "\n",
    "rs_lc = RandomizedSearchCV(lc, \n",
    "                    grid_rs_lc,\n",
    "                    n_iter = 100, \n",
    "                    cv=10, \n",
    "                    scoring=\"accuracy\", \n",
    "                    verbose=1, \n",
    "                    n_jobs=-1)\n",
    "\n",
    "rs_knc = RandomizedSearchCV(knc, \n",
    "                    grid_rs_knc,\n",
    "                    n_iter = 100, \n",
    "                    cv=10, \n",
    "                    scoring=\"accuracy\", \n",
    "                    verbose=1, \n",
    "                    n_jobs=-1)\n",
    "\n",
    "rs_mlp = RandomizedSearchCV(mlp,\n",
    "                      grid_rs_mlp,\n",
    "                      n_iter = 100,\n",
    "                      cv=10,\n",
    "                      scoring='accuracy',\n",
    "                      verbose=1,\n",
    "                      n_jobs=-1)\n",
    "\n",
    "rs_xgc = RandomizedSearchCV(xgc, \n",
    "                    grid_rs_xgc,\n",
    "                    n_iter = 100, \n",
    "                    cv=10, \n",
    "                    scoring=\"accuracy\", \n",
    "                    verbose=1, \n",
    "                    n_jobs=-1)\n"
   ]
  },
  {
   "cell_type": "code",
   "execution_count": 16,
   "metadata": {
    "colab": {
     "base_uri": "https://localhost:8080/",
     "height": 363
    },
    "id": "cXXdnhgCC7qi",
    "outputId": "694a1d83-ce8e-4804-f92a-a5ba13e61496",
    "scrolled": true
   },
   "outputs": [],
   "source": [
    "all_rs_searchs = {\"rs_dtc\":rs_dtc,\n",
    "                    \"rs_rfc\":rs_rfc,\n",
    "                    \"rs_gbc\":rs_gbc,\n",
    "                    \"rs_ridge\":rs_ridge,\n",
    "                    \"rs_lc\":rs_lc,\n",
    "                    \"rs_knc\":rs_knc,\n",
    "                    \"rs_mlp\":rs_mlp,\n",
    "                    \"rs_xgc\": rs_xgc\n",
    "                    }"
   ]
  },
  {
   "cell_type": "markdown",
   "metadata": {},
   "source": [
    "#### Model training"
   ]
  },
  {
   "cell_type": "code",
   "execution_count": 17,
   "metadata": {
    "scrolled": true
   },
   "outputs": [
    {
     "name": "stdout",
     "output_type": "stream",
     "text": [
      "Random Search of rs_dtc...\n",
      "Fitting 10 folds for each of 19 candidates, totalling 190 fits\n",
      "Training time: 1.0310893058776855 s\n",
      "Random Search of rs_rfc...\n",
      "Fitting 10 folds for each of 100 candidates, totalling 1000 fits\n",
      "Training time: 1.933356761932373 s\n",
      "Random Search of rs_gbc...\n",
      "Fitting 10 folds for each of 100 candidates, totalling 1000 fits\n",
      "Training time: 3.8961620330810547 s\n",
      "Random Search of rs_ridge...\n",
      "Fitting 10 folds for each of 49 candidates, totalling 490 fits\n",
      "Training time: 0.16526389122009277 s\n",
      "Random Search of rs_lc...\n",
      "Fitting 10 folds for each of 49 candidates, totalling 490 fits\n",
      "Training time: 0.21111488342285156 s\n",
      "Random Search of rs_knc...\n",
      "Fitting 10 folds for each of 28 candidates, totalling 280 fits\n",
      "Training time: 0.1160428524017334 s\n",
      "Random Search of rs_mlp...\n",
      "Fitting 10 folds for each of 100 candidates, totalling 1000 fits\n",
      "Training time: 0.696922779083252 s\n",
      "Random Search of rs_xgc...\n",
      "Fitting 10 folds for each of 100 candidates, totalling 1000 fits\n",
      "Training time: 1.6687631607055664 s\n"
     ]
    }
   ],
   "source": [
    "for name, grid_search in all_rs_searchs.items():\n",
    "    start = time.time()\n",
    "    print(\"Random Search of %s...\" % name)\n",
    "    grid_search.fit(X_train, y_train)\n",
    "    stop = time.time()\n",
    "    print(f\"Training time: {stop - start} s\")"
   ]
  },
  {
   "cell_type": "markdown",
   "metadata": {},
   "source": [
    "#### Model performance"
   ]
  },
  {
   "cell_type": "code",
   "execution_count": 18,
   "metadata": {},
   "outputs": [
    {
     "data": {
      "text/html": [
       "<div>\n",
       "<style scoped>\n",
       "    .dataframe tbody tr th:only-of-type {\n",
       "        vertical-align: middle;\n",
       "    }\n",
       "\n",
       "    .dataframe tbody tr th {\n",
       "        vertical-align: top;\n",
       "    }\n",
       "\n",
       "    .dataframe thead th {\n",
       "        text-align: right;\n",
       "    }\n",
       "</style>\n",
       "<table border=\"1\" class=\"dataframe\">\n",
       "  <thead>\n",
       "    <tr style=\"text-align: right;\">\n",
       "      <th></th>\n",
       "      <th>RandomSearchCV</th>\n",
       "      <th>Best score</th>\n",
       "    </tr>\n",
       "  </thead>\n",
       "  <tbody>\n",
       "    <tr>\n",
       "      <th>1</th>\n",
       "      <td>rs_rfc</td>\n",
       "      <td>0.948701</td>\n",
       "    </tr>\n",
       "    <tr>\n",
       "      <th>2</th>\n",
       "      <td>rs_gbc</td>\n",
       "      <td>0.948701</td>\n",
       "    </tr>\n",
       "    <tr>\n",
       "      <th>7</th>\n",
       "      <td>rs_xgc</td>\n",
       "      <td>0.948485</td>\n",
       "    </tr>\n",
       "    <tr>\n",
       "      <th>5</th>\n",
       "      <td>rs_knc</td>\n",
       "      <td>0.943506</td>\n",
       "    </tr>\n",
       "    <tr>\n",
       "      <th>0</th>\n",
       "      <td>rs_dtc</td>\n",
       "      <td>0.939394</td>\n",
       "    </tr>\n",
       "    <tr>\n",
       "      <th>6</th>\n",
       "      <td>rs_mlp</td>\n",
       "      <td>0.906277</td>\n",
       "    </tr>\n",
       "    <tr>\n",
       "      <th>4</th>\n",
       "      <td>rs_lc</td>\n",
       "      <td>0.811905</td>\n",
       "    </tr>\n",
       "    <tr>\n",
       "      <th>3</th>\n",
       "      <td>rs_ridge</td>\n",
       "      <td>0.693506</td>\n",
       "    </tr>\n",
       "  </tbody>\n",
       "</table>\n",
       "</div>"
      ],
      "text/plain": [
       "  RandomSearchCV  Best score\n",
       "1         rs_rfc    0.948701\n",
       "2         rs_gbc    0.948701\n",
       "7         rs_xgc    0.948485\n",
       "5         rs_knc    0.943506\n",
       "0         rs_dtc    0.939394\n",
       "6         rs_mlp    0.906277\n",
       "4          rs_lc    0.811905\n",
       "3       rs_ridge    0.693506"
      ]
     },
     "execution_count": 18,
     "metadata": {},
     "output_type": "execute_result"
    }
   ],
   "source": [
    "best_score_rs = [(nombre_modelo, grid_search.best_score_)\n",
    "                                  for nombre_modelo, grid_search           \n",
    "                                  in all_rs_searchs.items()]\n",
    "\n",
    "best_score_rs_df = pd.DataFrame(best_score_rs, \n",
    "                                columns=[\"RandomSearchCV\", \n",
    "                                         \"Best score\"]).sort_values(by=\"Best score\", \n",
    "                                                                    ascending=False)\n",
    "\n",
    "best_score_rs_df"
   ]
  },
  {
   "cell_type": "code",
   "execution_count": 19,
   "metadata": {},
   "outputs": [],
   "source": [
    "clases = ['0 - 1 MPa', '1 - 5 MPa', '5 - 10 MPa', '> 10 MPa']"
   ]
  },
  {
   "cell_type": "markdown",
   "metadata": {},
   "source": [
    "##### KNC"
   ]
  },
  {
   "cell_type": "code",
   "execution_count": 20,
   "metadata": {},
   "outputs": [
    {
     "name": "stdout",
     "output_type": "stream",
     "text": [
      "{'knc__weights': 'distance', 'knc__n_neighbors': 10}\n"
     ]
    }
   ],
   "source": [
    "best_randomsearch = all_rs_searchs[\"rs_knc\"]\n",
    "# Save the model best model\n",
    "best_pipeline = best_randomsearch.best_estimator_\n",
    "print(best_randomsearch.best_params_)"
   ]
  },
  {
   "cell_type": "code",
   "execution_count": 21,
   "metadata": {},
   "outputs": [
    {
     "name": "stdout",
     "output_type": "stream",
     "text": [
      "Accuracy: 0.97\n",
      "Precision: 0.97\n",
      "Recall: 0.97\n",
      "F1-score: 0.97\n",
      "\n",
      "Classification Report:\n",
      "              precision    recall  f1-score   support\n",
      "\n",
      "           0       1.00      1.00      1.00        20\n",
      "           1       1.00      1.00      1.00        26\n",
      "           2       1.00      0.88      0.94        26\n",
      "           3       0.86      1.00      0.93        19\n",
      "\n",
      "    accuracy                           0.97        91\n",
      "   macro avg       0.97      0.97      0.97        91\n",
      "weighted avg       0.97      0.97      0.97        91\n",
      "\n"
     ]
    }
   ],
   "source": [
    "# Obtener las predicciones del mejor modelo\n",
    "y_pred = best_pipeline.predict(X_test)\n",
    "\n",
    "# Calcular métricas de clasificación\n",
    "accuracy = accuracy_score(y_true=y_test, y_pred=y_pred)\n",
    "precision = precision_score(y_true=y_test, y_pred=y_pred, average='weighted')\n",
    "recall = recall_score(y_true=y_test, y_pred=y_pred, average='weighted')\n",
    "f1 = f1_score(y_true=y_test, y_pred=y_pred, average='weighted')\n",
    "cm = confusion_matrix(y_true=y_test, y_pred=y_pred)\n",
    "\n",
    "# Imprimir las métricas\n",
    "print(\"Accuracy: {:.2f}\".format(accuracy))\n",
    "print(\"Precision: {:.2f}\".format(precision))\n",
    "print(\"Recall: {:.2f}\".format(recall))\n",
    "print(\"F1-score: {:.2f}\".format(f1))\n",
    "\n",
    "# Imprimir el classification report\n",
    "print(\"\\nClassification Report:\")\n",
    "print(classification_report(y_true=y_test, y_pred=y_pred))"
   ]
  },
  {
   "cell_type": "code",
   "execution_count": 22,
   "metadata": {},
   "outputs": [
    {
     "data": {
      "image/png": "[encoded data removed]",
      "text/plain": [
       "<Figure size 800x550 with 1 Axes>"
      ]
     },
     "metadata": {},
     "output_type": "display_data"
    },
    {
     "data": {
      "text/plain": [
       "<Axes: title={'center': 'KNeighborsClassifier Confusion Matrix'}, xlabel='Predicted Class', ylabel='True Class'>"
      ]
     },
     "execution_count": 22,
     "metadata": {},
     "output_type": "execute_result"
    }
   ],
   "source": [
    "# The ConfusionMatrix visualizer taxes a model\n",
    "cm = ConfusionMatrix(best_pipeline, classes = clases)\n",
    "\n",
    "# Fit fits the passed model. This is unnecessary if you pass the visualizer a pre-fitted model\n",
    "#cm.fit(X_train, y_train)\n",
    "\n",
    "# To create the ConfusionMatrix, we need some test data. Score runs predict() on the data\n",
    "# and then creates the confusion_matrix from scikit-learn.\n",
    "cm.score(X_test, y_test)\n",
    "\n",
    "# How did we do?\n",
    "cm.show()"
   ]
  },
  {
   "cell_type": "markdown",
   "metadata": {},
   "source": [
    "##### GBC"
   ]
  },
  {
   "cell_type": "code",
   "execution_count": 23,
   "metadata": {},
   "outputs": [
    {
     "name": "stdout",
     "output_type": "stream",
     "text": [
      "{'gbc__subsample': 0.9500000000000004, 'gbc__n_estimators': 26, 'gbc__max_features': 6, 'gbc__max_depth': 22, 'gbc__loss': 'log_loss', 'gbc__learning_rate': 0.7700000000000001}\n"
     ]
    }
   ],
   "source": [
    "best_randomsearch = all_rs_searchs[\"rs_gbc\"]\n",
    "# Save the model best model\n",
    "best_pipeline = best_randomsearch.best_estimator_\n",
    "print(best_randomsearch.best_params_)"
   ]
  },
  {
   "cell_type": "code",
   "execution_count": 24,
   "metadata": {},
   "outputs": [
    {
     "name": "stdout",
     "output_type": "stream",
     "text": [
      "Accuracy: 0.96\n",
      "Precision: 0.96\n",
      "Recall: 0.96\n",
      "F1-score: 0.96\n",
      "\n",
      "Classification Report:\n",
      "              precision    recall  f1-score   support\n",
      "\n",
      "           0       1.00      0.95      0.97        20\n",
      "           1       0.87      1.00      0.93        26\n",
      "           2       1.00      0.88      0.94        26\n",
      "           3       1.00      1.00      1.00        19\n",
      "\n",
      "    accuracy                           0.96        91\n",
      "   macro avg       0.97      0.96      0.96        91\n",
      "weighted avg       0.96      0.96      0.96        91\n",
      "\n"
     ]
    }
   ],
   "source": [
    "# Obtener las predicciones del mejor modelo\n",
    "y_pred = best_pipeline.predict(X_test)\n",
    "\n",
    "# Calcular métricas de clasificación\n",
    "accuracy = accuracy_score(y_true=y_test, y_pred=y_pred)\n",
    "precision = precision_score(y_true=y_test, y_pred=y_pred, average='weighted')\n",
    "recall = recall_score(y_true=y_test, y_pred=y_pred, average='weighted')\n",
    "f1 = f1_score(y_true=y_test, y_pred=y_pred, average='weighted')\n",
    "cm = confusion_matrix(y_true=y_test, y_pred=y_pred)\n",
    "\n",
    "# Imprimir las métricas\n",
    "print(\"Accuracy: {:.2f}\".format(accuracy))\n",
    "print(\"Precision: {:.2f}\".format(precision))\n",
    "print(\"Recall: {:.2f}\".format(recall))\n",
    "print(\"F1-score: {:.2f}\".format(f1))\n",
    "\n",
    "# Imprimir el classification report\n",
    "print(\"\\nClassification Report:\")\n",
    "print(classification_report(y_true=y_test, y_pred=y_pred))"
   ]
  },
  {
   "cell_type": "code",
   "execution_count": 25,
   "metadata": {},
   "outputs": [
    {
     "data": {
      "image/png": "[encoded data removed]",
      "text/plain": [
       "<Figure size 800x550 with 1 Axes>"
      ]
     },
     "metadata": {},
     "output_type": "display_data"
    },
    {
     "data": {
      "text/plain": [
       "<Axes: title={'center': 'GradientBoostingClassifier Confusion Matrix'}, xlabel='Predicted Class', ylabel='True Class'>"
      ]
     },
     "execution_count": 25,
     "metadata": {},
     "output_type": "execute_result"
    }
   ],
   "source": [
    "# The ConfusionMatrix visualizer taxes a model\n",
    "cm = ConfusionMatrix(best_pipeline, classes = clases)\n",
    "\n",
    "# Fit fits the passed model. This is unnecessary if you pass the visualizer a pre-fitted model\n",
    "#cm.fit(X_train, y_train)\n",
    "\n",
    "# To create the ConfusionMatrix, we need some test data. Score runs predict() on the data\n",
    "# and then creates the confusion_matrix from scikit-learn.\n",
    "cm.score(X_test, y_test)\n",
    "\n",
    "# How did we do?\n",
    "cm.show()"
   ]
  },
  {
   "cell_type": "markdown",
   "metadata": {},
   "source": [
    "##### RFC"
   ]
  },
  {
   "cell_type": "code",
   "execution_count": 26,
   "metadata": {},
   "outputs": [
    {
     "name": "stdout",
     "output_type": "stream",
     "text": [
      "{'rfc__n_estimators': 75, 'rfc__max_features': 'sqrt', 'rfc__max_depth': 46}\n"
     ]
    }
   ],
   "source": [
    "best_randomsearch = all_rs_searchs[\"rs_rfc\"]\n",
    "# Save the model best model\n",
    "best_pipeline = best_randomsearch.best_estimator_\n",
    "print(best_randomsearch.best_params_)"
   ]
  },
  {
   "cell_type": "code",
   "execution_count": 27,
   "metadata": {},
   "outputs": [
    {
     "name": "stdout",
     "output_type": "stream",
     "text": [
      "Accuracy: 0.96\n",
      "Precision: 0.96\n",
      "Recall: 0.96\n",
      "F1-score: 0.96\n",
      "\n",
      "Classification Report:\n",
      "              precision    recall  f1-score   support\n",
      "\n",
      "           0       1.00      0.95      0.97        20\n",
      "           1       0.96      1.00      0.98        26\n",
      "           2       1.00      0.88      0.94        26\n",
      "           3       0.86      1.00      0.93        19\n",
      "\n",
      "    accuracy                           0.96        91\n",
      "   macro avg       0.96      0.96      0.96        91\n",
      "weighted avg       0.96      0.96      0.96        91\n",
      "\n"
     ]
    }
   ],
   "source": [
    "# Obtener las predicciones del mejor modelo\n",
    "y_pred = best_pipeline.predict(X_test)\n",
    "\n",
    "# Calcular métricas de clasificación\n",
    "accuracy = accuracy_score(y_true=y_test, y_pred=y_pred)\n",
    "precision = precision_score(y_true=y_test, y_pred=y_pred, average='weighted')\n",
    "recall = recall_score(y_true=y_test, y_pred=y_pred, average='weighted')\n",
    "f1 = f1_score(y_true=y_test, y_pred=y_pred, average='weighted')\n",
    "cm = confusion_matrix(y_true=y_test, y_pred=y_pred)\n",
    "\n",
    "# Imprimir las métricas\n",
    "print(\"Accuracy: {:.2f}\".format(accuracy))\n",
    "print(\"Precision: {:.2f}\".format(precision))\n",
    "print(\"Recall: {:.2f}\".format(recall))\n",
    "print(\"F1-score: {:.2f}\".format(f1))\n",
    "\n",
    "# Imprimir el classification report\n",
    "print(\"\\nClassification Report:\")\n",
    "print(classification_report(y_true=y_test, y_pred=y_pred))"
   ]
  },
  {
   "cell_type": "code",
   "execution_count": 28,
   "metadata": {},
   "outputs": [
    {
     "data": {
      "image/png": "[encoded data removed]",
      "text/plain": [
       "<Figure size 800x550 with 1 Axes>"
      ]
     },
     "metadata": {},
     "output_type": "display_data"
    },
    {
     "data": {
      "text/plain": [
       "<Axes: title={'center': 'RandomForestClassifier Confusion Matrix'}, xlabel='Predicted Class', ylabel='True Class'>"
      ]
     },
     "execution_count": 28,
     "metadata": {},
     "output_type": "execute_result"
    }
   ],
   "source": [
    "# The ConfusionMatrix visualizer taxes a model\n",
    "cm = ConfusionMatrix(best_pipeline, classes = clases)\n",
    "\n",
    "# Fit fits the passed model. This is unnecessary if you pass the visualizer a pre-fitted model\n",
    "#cm.fit(X_train, y_train)\n",
    "\n",
    "# To create the ConfusionMatrix, we need some test data. Score runs predict() on the data\n",
    "# and then creates the confusion_matrix from scikit-learn.\n",
    "cm.score(X_test, y_test)\n",
    "\n",
    "# How did we do?\n",
    "cm.show()"
   ]
  },
  {
   "cell_type": "markdown",
   "metadata": {},
   "source": [
    "##### MLP"
   ]
  },
  {
   "cell_type": "code",
   "execution_count": 29,
   "metadata": {},
   "outputs": [
    {
     "name": "stdout",
     "output_type": "stream",
     "text": [
      "{'mlp__validation_fraction': 0.25, 'mlp__solver': 'adam', 'mlp__max_iter': 10000, 'mlp__learning_rate_init': 0.05099999999999999, 'mlp__hidden_layer_sizes': (32, 32), 'mlp__early_stopping': True, 'mlp__alpha': 0.25, 'mlp__activation': 'relu'}\n"
     ]
    }
   ],
   "source": [
    "best_randomsearch = all_rs_searchs[\"rs_mlp\"]\n",
    "# Save the model best model\n",
    "best_pipeline = best_randomsearch.best_estimator_\n",
    "print(best_randomsearch.best_params_)"
   ]
  },
  {
   "cell_type": "code",
   "execution_count": 30,
   "metadata": {},
   "outputs": [
    {
     "name": "stdout",
     "output_type": "stream",
     "text": [
      "Accuracy: 0.82\n",
      "Precision: 0.86\n",
      "Recall: 0.82\n",
      "F1-score: 0.82\n",
      "\n",
      "Classification Report:\n",
      "              precision    recall  f1-score   support\n",
      "\n",
      "           0       0.72      0.90      0.80        20\n",
      "           1       0.92      0.88      0.90        26\n",
      "           2       1.00      0.58      0.73        26\n",
      "           3       0.73      1.00      0.84        19\n",
      "\n",
      "    accuracy                           0.82        91\n",
      "   macro avg       0.84      0.84      0.82        91\n",
      "weighted avg       0.86      0.82      0.82        91\n",
      "\n"
     ]
    }
   ],
   "source": [
    "# Obtener las predicciones del mejor modelo\n",
    "y_pred = best_pipeline.predict(X_test)\n",
    "\n",
    "# Calcular métricas de clasificación\n",
    "accuracy = accuracy_score(y_true=y_test, y_pred=y_pred)\n",
    "precision = precision_score(y_true=y_test, y_pred=y_pred, average='weighted')\n",
    "recall = recall_score(y_true=y_test, y_pred=y_pred, average='weighted')\n",
    "f1 = f1_score(y_true=y_test, y_pred=y_pred, average='weighted')\n",
    "cm = confusion_matrix(y_true=y_test, y_pred=y_pred)\n",
    "\n",
    "# Imprimir las métricas\n",
    "print(\"Accuracy: {:.2f}\".format(accuracy))\n",
    "print(\"Precision: {:.2f}\".format(precision))\n",
    "print(\"Recall: {:.2f}\".format(recall))\n",
    "print(\"F1-score: {:.2f}\".format(f1))\n",
    "\n",
    "# Imprimir el classification report\n",
    "print(\"\\nClassification Report:\")\n",
    "print(classification_report(y_true=y_test, y_pred=y_pred))"
   ]
  },
  {
   "cell_type": "code",
   "execution_count": 31,
   "metadata": {},
   "outputs": [
    {
     "data": {
      "image/png": "[encoded data removed]",
      "text/plain": [
       "<Figure size 800x550 with 1 Axes>"
      ]
     },
     "metadata": {},
     "output_type": "display_data"
    },
    {
     "data": {
      "text/plain": [
       "<Axes: title={'center': 'MLPClassifier Confusion Matrix'}, xlabel='Predicted Class', ylabel='True Class'>"
      ]
     },
     "execution_count": 31,
     "metadata": {},
     "output_type": "execute_result"
    }
   ],
   "source": [
    "# The ConfusionMatrix visualizer taxes a model\n",
    "cm = ConfusionMatrix(best_pipeline, classes = clases)\n",
    "\n",
    "# Fit fits the passed model. This is unnecessary if you pass the visualizer a pre-fitted model\n",
    "#cm.fit(X_train, y_train)\n",
    "\n",
    "# To create the ConfusionMatrix, we need some test data. Score runs predict() on the data\n",
    "# and then creates the confusion_matrix from scikit-learn.\n",
    "cm.score(X_test, y_test)\n",
    "\n",
    "# How did we do?\n",
    "cm.show()"
   ]
  },
  {
   "cell_type": "markdown",
   "metadata": {},
   "source": [
    "##### XGC"
   ]
  },
  {
   "cell_type": "code",
   "execution_count": 32,
   "metadata": {},
   "outputs": [
    {
     "name": "stdout",
     "output_type": "stream",
     "text": [
      "{'xgc__n_estimators': 110, 'xgc__max_depth': 12, 'xgc__learning_rate': 0.01}\n"
     ]
    }
   ],
   "source": [
    "best_randomsearch = all_rs_searchs[\"rs_xgc\"]\n",
    "# Save the model best model\n",
    "best_pipeline = best_randomsearch.best_estimator_\n",
    "print(best_randomsearch.best_params_)"
   ]
  },
  {
   "cell_type": "code",
   "execution_count": 33,
   "metadata": {},
   "outputs": [
    {
     "name": "stdout",
     "output_type": "stream",
     "text": [
      "Accuracy: 0.95\n",
      "Precision: 0.95\n",
      "Recall: 0.95\n",
      "F1-score: 0.94\n",
      "\n",
      "Classification Report:\n",
      "              precision    recall  f1-score   support\n",
      "\n",
      "           0       0.94      0.80      0.86        20\n",
      "           1       0.86      0.96      0.91        26\n",
      "           2       1.00      1.00      1.00        26\n",
      "           3       1.00      1.00      1.00        19\n",
      "\n",
      "    accuracy                           0.95        91\n",
      "   macro avg       0.95      0.94      0.94        91\n",
      "weighted avg       0.95      0.95      0.94        91\n",
      "\n"
     ]
    }
   ],
   "source": [
    "# Obtener las predicciones del mejor modelo\n",
    "y_pred = best_pipeline.predict(X_test)\n",
    "\n",
    "# Calcular métricas de clasificación\n",
    "accuracy = accuracy_score(y_true=y_test, y_pred=y_pred)\n",
    "precision = precision_score(y_true=y_test, y_pred=y_pred, average='weighted')\n",
    "recall = recall_score(y_true=y_test, y_pred=y_pred, average='weighted')\n",
    "f1 = f1_score(y_true=y_test, y_pred=y_pred, average='weighted')\n",
    "cm = confusion_matrix(y_true=y_test, y_pred=y_pred)\n",
    "\n",
    "# Imprimir las métricas\n",
    "print(\"Accuracy: {:.2f}\".format(accuracy))\n",
    "print(\"Precision: {:.2f}\".format(precision))\n",
    "print(\"Recall: {:.2f}\".format(recall))\n",
    "print(\"F1-score: {:.2f}\".format(f1))\n",
    "\n",
    "# Imprimir el classification report\n",
    "print(\"\\nClassification Report:\")\n",
    "print(classification_report(y_true=y_test, y_pred=y_pred))"
   ]
  },
  {
   "cell_type": "code",
   "execution_count": 34,
   "metadata": {},
   "outputs": [
    {
     "data": {
      "image/png": "[encoded data removed]",
      "text/plain": [
       "<Figure size 800x550 with 1 Axes>"
      ]
     },
     "metadata": {},
     "output_type": "display_data"
    },
    {
     "data": {
      "text/plain": [
       "<Axes: title={'center': 'XGBClassifier Confusion Matrix'}, xlabel='Predicted Class', ylabel='True Class'>"
      ]
     },
     "execution_count": 34,
     "metadata": {},
     "output_type": "execute_result"
    }
   ],
   "source": [
    "# The ConfusionMatrix visualizer taxes a model\n",
    "cm = ConfusionMatrix(best_pipeline, classes = clases)\n",
    "\n",
    "# Fit fits the passed model. This is unnecessary if you pass the visualizer a pre-fitted model\n",
    "#cm.fit(X_train, y_train)\n",
    "\n",
    "# To create the ConfusionMatrix, we need some test data. Score runs predict() on the data\n",
    "# and then creates the confusion_matrix from scikit-learn.\n",
    "cm.score(X_test, y_test)\n",
    "\n",
    "# How did we do?\n",
    "cm.show()"
   ]
  },
  {
   "cell_type": "markdown",
   "metadata": {},
   "source": [
    "##### DTC"
   ]
  },
  {
   "cell_type": "code",
   "execution_count": 35,
   "metadata": {},
   "outputs": [
    {
     "name": "stdout",
     "output_type": "stream",
     "text": [
      "{'dtc__max_depth': 15}\n"
     ]
    }
   ],
   "source": [
    "best_randomsearch = all_rs_searchs[\"rs_dtc\"]\n",
    "# Save the model best model\n",
    "best_pipeline = best_randomsearch.best_estimator_\n",
    "print(best_randomsearch.best_params_)"
   ]
  },
  {
   "cell_type": "code",
   "execution_count": 36,
   "metadata": {},
   "outputs": [
    {
     "name": "stdout",
     "output_type": "stream",
     "text": [
      "Accuracy: 0.99\n",
      "Precision: 0.99\n",
      "Recall: 0.99\n",
      "F1-score: 0.99\n",
      "\n",
      "Classification Report:\n",
      "              precision    recall  f1-score   support\n",
      "\n",
      "           0       1.00      0.95      0.97        20\n",
      "           1       0.96      1.00      0.98        26\n",
      "           2       1.00      1.00      1.00        26\n",
      "           3       1.00      1.00      1.00        19\n",
      "\n",
      "    accuracy                           0.99        91\n",
      "   macro avg       0.99      0.99      0.99        91\n",
      "weighted avg       0.99      0.99      0.99        91\n",
      "\n"
     ]
    }
   ],
   "source": [
    "# Obtener las predicciones del mejor modelo\n",
    "y_pred = best_pipeline.predict(X_test)\n",
    "\n",
    "# Calcular métricas de clasificación\n",
    "accuracy = accuracy_score(y_true=y_test, y_pred=y_pred)\n",
    "precision = precision_score(y_true=y_test, y_pred=y_pred, average='weighted')\n",
    "recall = recall_score(y_true=y_test, y_pred=y_pred, average='weighted')\n",
    "f1 = f1_score(y_true=y_test, y_pred=y_pred, average='weighted')\n",
    "cm = confusion_matrix(y_true=y_test, y_pred=y_pred)\n",
    "\n",
    "# Imprimir las métricas\n",
    "print(\"Accuracy: {:.2f}\".format(accuracy))\n",
    "print(\"Precision: {:.2f}\".format(precision))\n",
    "print(\"Recall: {:.2f}\".format(recall))\n",
    "print(\"F1-score: {:.2f}\".format(f1))\n",
    "\n",
    "# Imprimir el classification report\n",
    "print(\"\\nClassification Report:\")\n",
    "print(classification_report(y_true=y_test, y_pred=y_pred))"
   ]
  },
  {
   "cell_type": "code",
   "execution_count": 37,
   "metadata": {},
   "outputs": [
    {
     "data": {
      "image/png": "[encoded data removed]",
      "text/plain": [
       "<Figure size 800x550 with 1 Axes>"
      ]
     },
     "metadata": {},
     "output_type": "display_data"
    },
    {
     "data": {
      "text/plain": [
       "<Axes: title={'center': 'DecisionTreeClassifier Confusion Matrix'}, xlabel='Predicted Class', ylabel='True Class'>"
      ]
     },
     "execution_count": 37,
     "metadata": {},
     "output_type": "execute_result"
    }
   ],
   "source": [
    "# The ConfusionMatrix visualizer taxes a model\n",
    "cm = ConfusionMatrix(best_pipeline, classes = clases)\n",
    "\n",
    "# Fit fits the passed model. This is unnecessary if you pass the visualizer a pre-fitted model\n",
    "#cm.fit(X_train, y_train)\n",
    "\n",
    "# To create the ConfusionMatrix, we need some test data. Score runs predict() on the data\n",
    "# and then creates the confusion_matrix from scikit-learn.\n",
    "cm.score(X_test, y_test)\n",
    "\n",
    "# How did we do?\n",
    "cm.show()"
   ]
  },
  {
   "cell_type": "markdown",
   "metadata": {},
   "source": [
    "##### LC"
   ]
  },
  {
   "cell_type": "code",
   "execution_count": 38,
   "metadata": {},
   "outputs": [
    {
     "name": "stdout",
     "output_type": "stream",
     "text": [
      "{'lc__C': 4.6000000000000005}\n"
     ]
    }
   ],
   "source": [
    "best_randomsearch = all_rs_searchs[\"rs_lc\"]\n",
    "# Save the model best model\n",
    "best_pipeline = best_randomsearch.best_estimator_\n",
    "print(best_randomsearch.best_params_)"
   ]
  },
  {
   "cell_type": "code",
   "execution_count": 39,
   "metadata": {},
   "outputs": [
    {
     "name": "stdout",
     "output_type": "stream",
     "text": [
      "Accuracy: 0.86\n",
      "Precision: 0.87\n",
      "Recall: 0.86\n",
      "F1-score: 0.86\n",
      "\n",
      "Classification Report:\n",
      "              precision    recall  f1-score   support\n",
      "\n",
      "           0       0.82      0.70      0.76        20\n",
      "           1       0.79      0.88      0.84        26\n",
      "           2       1.00      0.85      0.92        26\n",
      "           3       0.83      1.00      0.90        19\n",
      "\n",
      "    accuracy                           0.86        91\n",
      "   macro avg       0.86      0.86      0.85        91\n",
      "weighted avg       0.87      0.86      0.86        91\n",
      "\n"
     ]
    }
   ],
   "source": [
    "# Obtener las predicciones del mejor modelo\n",
    "y_pred = best_pipeline.predict(X_test)\n",
    "\n",
    "# Calcular métricas de clasificación\n",
    "accuracy = accuracy_score(y_true=y_test, y_pred=y_pred)\n",
    "precision = precision_score(y_true=y_test, y_pred=y_pred, average='weighted')\n",
    "recall = recall_score(y_true=y_test, y_pred=y_pred, average='weighted')\n",
    "f1 = f1_score(y_true=y_test, y_pred=y_pred, average='weighted')\n",
    "cm = confusion_matrix(y_true=y_test, y_pred=y_pred)\n",
    "\n",
    "# Imprimir las métricas\n",
    "print(\"Accuracy: {:.2f}\".format(accuracy))\n",
    "print(\"Precision: {:.2f}\".format(precision))\n",
    "print(\"Recall: {:.2f}\".format(recall))\n",
    "print(\"F1-score: {:.2f}\".format(f1))\n",
    "\n",
    "# Imprimir el classification report\n",
    "print(\"\\nClassification Report:\")\n",
    "print(classification_report(y_true=y_test, y_pred=y_pred))"
   ]
  },
  {
   "cell_type": "code",
   "execution_count": 40,
   "metadata": {},
   "outputs": [
    {
     "data": {
      "image/png": "[encoded data removed]",
      "text/plain": [
       "<Figure size 800x550 with 1 Axes>"
      ]
     },
     "metadata": {},
     "output_type": "display_data"
    },
    {
     "data": {
      "text/plain": [
       "<Axes: title={'center': 'LogisticRegression Confusion Matrix'}, xlabel='Predicted Class', ylabel='True Class'>"
      ]
     },
     "execution_count": 40,
     "metadata": {},
     "output_type": "execute_result"
    }
   ],
   "source": [
    "# The ConfusionMatrix visualizer taxes a model\n",
    "cm = ConfusionMatrix(best_pipeline, classes = clases)\n",
    "\n",
    "# Fit fits the passed model. This is unnecessary if you pass the visualizer a pre-fitted model\n",
    "#cm.fit(X_train, y_train)\n",
    "\n",
    "# To create the ConfusionMatrix, we need some test data. Score runs predict() on the data\n",
    "# and then creates the confusion_matrix from scikit-learn.\n",
    "cm.score(X_test, y_test)\n",
    "\n",
    "# How did we do?\n",
    "cm.show()"
   ]
  },
  {
   "cell_type": "markdown",
   "metadata": {},
   "source": [
    "##### RIDGE"
   ]
  },
  {
   "cell_type": "code",
   "execution_count": 41,
   "metadata": {},
   "outputs": [
    {
     "name": "stdout",
     "output_type": "stream",
     "text": [
      "{'ridge__alpha': 0.1}\n"
     ]
    }
   ],
   "source": [
    "best_randomsearch = all_rs_searchs[\"rs_ridge\"]\n",
    "# Save the model best model\n",
    "best_pipeline = best_randomsearch.best_estimator_\n",
    "print(best_randomsearch.best_params_)"
   ]
  },
  {
   "cell_type": "code",
   "execution_count": 42,
   "metadata": {},
   "outputs": [
    {
     "name": "stdout",
     "output_type": "stream",
     "text": [
      "Accuracy: 0.77\n",
      "Precision: 0.78\n",
      "Recall: 0.77\n",
      "F1-score: 0.77\n",
      "\n",
      "Classification Report:\n",
      "              precision    recall  f1-score   support\n",
      "\n",
      "           0       0.60      0.75      0.67        20\n",
      "           1       0.73      0.62      0.67        26\n",
      "           2       0.95      0.81      0.88        26\n",
      "           3       0.82      0.95      0.88        19\n",
      "\n",
      "    accuracy                           0.77        91\n",
      "   macro avg       0.78      0.78      0.77        91\n",
      "weighted avg       0.78      0.77      0.77        91\n",
      "\n"
     ]
    }
   ],
   "source": [
    "# Obtener las predicciones del mejor modelo\n",
    "y_pred = best_pipeline.predict(X_test)\n",
    "\n",
    "# Calcular métricas de clasificación\n",
    "accuracy = accuracy_score(y_true=y_test, y_pred=y_pred)\n",
    "precision = precision_score(y_true=y_test, y_pred=y_pred, average='weighted')\n",
    "recall = recall_score(y_true=y_test, y_pred=y_pred, average='weighted')\n",
    "f1 = f1_score(y_true=y_test, y_pred=y_pred, average='weighted')\n",
    "cm = confusion_matrix(y_true=y_test, y_pred=y_pred)\n",
    "\n",
    "# Imprimir las métricas\n",
    "print(\"Accuracy: {:.2f}\".format(accuracy))\n",
    "print(\"Precision: {:.2f}\".format(precision))\n",
    "print(\"Recall: {:.2f}\".format(recall))\n",
    "print(\"F1-score: {:.2f}\".format(f1))\n",
    "\n",
    "# Imprimir el classification report\n",
    "print(\"\\nClassification Report:\")\n",
    "print(classification_report(y_true=y_test, y_pred=y_pred))"
   ]
  },
  {
   "cell_type": "code",
   "execution_count": 43,
   "metadata": {},
   "outputs": [
    {
     "data": {
      "image/png": "[encoded data removed]",
      "text/plain": [
       "<Figure size 800x550 with 1 Axes>"
      ]
     },
     "metadata": {},
     "output_type": "display_data"
    },
    {
     "data": {
      "text/plain": [
       "<Axes: title={'center': 'RidgeClassifier Confusion Matrix'}, xlabel='Predicted Class', ylabel='True Class'>"
      ]
     },
     "execution_count": 43,
     "metadata": {},
     "output_type": "execute_result"
    }
   ],
   "source": [
    "# The ConfusionMatrix visualizer taxes a model\n",
    "cm = ConfusionMatrix(best_pipeline, classes = clases)\n",
    "\n",
    "# Fit fits the passed model. This is unnecessary if you pass the visualizer a pre-fitted model\n",
    "#cm.fit(X_train, y_train)\n",
    "\n",
    "# To create the ConfusionMatrix, we need some test data. Score runs predict() on the data\n",
    "# and then creates the confusion_matrix from scikit-learn.\n",
    "cm.score(X_test, y_test)\n",
    "\n",
    "# How did we do?\n",
    "cm.show()"
   ]
  }
 ],
 "metadata": {
  "colab": {
   "provenance": []
  },
  "kernelspec": {
   "display_name": "tf",
   "language": "python",
   "name": "tf"
  },
  "language_info": {
   "codemirror_mode": {
    "name": "ipython",
    "version": 3
   },
   "file_extension": ".py",
   "mimetype": "text/x-python",
   "name": "python",
   "nbconvert_exporter": "python",
   "pygments_lexer": "ipython3",
   "version": "3.12.7"
  }
 },
 "nbformat": 4,
 "nbformat_minor": 4
}
