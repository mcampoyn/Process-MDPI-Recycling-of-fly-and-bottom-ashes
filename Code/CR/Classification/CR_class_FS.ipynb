{
 "cells": [
  {
   "cell_type": "markdown",
   "metadata": {
    "id": "j4OQjs227FMt"
   },
   "source": [
    "# Fire resistance classification"
   ]
  },
  {
   "cell_type": "markdown",
   "metadata": {
    "id": "e3is49BYzPKQ"
   },
   "source": [
    "## Library loading, settings and dataset load"
   ]
  },
  {
   "cell_type": "markdown",
   "metadata": {},
   "source": [
    "Hide warnings"
   ]
  },
  {
   "cell_type": "code",
   "execution_count": 1,
   "metadata": {},
   "outputs": [],
   "source": [
    "import warnings\n",
    "warnings.filterwarnings(\"ignore\", category=UserWarning)\n",
    "warnings.filterwarnings(\"ignore\", category=FutureWarning)"
   ]
  },
  {
   "cell_type": "markdown",
   "metadata": {},
   "source": [
    "Main libraries load"
   ]
  },
  {
   "cell_type": "code",
   "execution_count": 2,
   "metadata": {},
   "outputs": [],
   "source": [
    "import pandas as pd\n",
    "import numpy as np\n",
    "import seaborn as sns\n",
    "import matplotlib\n",
    "import matplotlib.pyplot as plt\n",
    "import time"
   ]
  },
  {
   "cell_type": "markdown",
   "metadata": {},
   "source": [
    "Additional libraries"
   ]
  },
  {
   "cell_type": "code",
   "execution_count": 3,
   "metadata": {},
   "outputs": [],
   "source": [
    "from feature_selector import FeatureSelector as feat_selec\n",
    "from autofeatselect import FeatureSelector\n",
    "from autofeatselect import AutoFeatureSelect\n",
    "from sklearn.utils import resample"
   ]
  },
  {
   "cell_type": "markdown",
   "metadata": {
    "id": "qqmC75jRzkAp"
   },
   "source": [
    "Load Compression resistance dataset"
   ]
  },
  {
   "cell_type": "code",
   "execution_count": 4,
   "metadata": {
    "id": "6e650d2f"
   },
   "outputs": [],
   "source": [
    "path = '/Users/manolo/Documents/Docencia/Tesis Doctorales/Elena Albeira Guirado Lucinio/Resistencia fuego/Datasets/'"
   ]
  },
  {
   "cell_type": "code",
   "execution_count": 5,
   "metadata": {
    "id": "gKkHDgKR8U1w"
   },
   "outputs": [],
   "source": [
    "df = pd.read_excel(path+'CR original.xlsx')"
   ]
  },
  {
   "cell_type": "code",
   "execution_count": 6,
   "metadata": {
    "colab": {
     "base_uri": "https://localhost:8080/",
     "height": 530
    },
    "id": "WmPn5p3U8skm",
    "outputId": "c149bfef-777a-457f-f922-0601b2af0e01"
   },
   "outputs": [
    {
     "data": {
      "text/html": [
       "<div>\n",
       "<style scoped>\n",
       "    .dataframe tbody tr th:only-of-type {\n",
       "        vertical-align: middle;\n",
       "    }\n",
       "\n",
       "    .dataframe tbody tr th {\n",
       "        vertical-align: top;\n",
       "    }\n",
       "\n",
       "    .dataframe thead th {\n",
       "        text-align: right;\n",
       "    }\n",
       "</style>\n",
       "<table border=\"1\" class=\"dataframe\">\n",
       "  <thead>\n",
       "    <tr style=\"text-align: right;\">\n",
       "      <th></th>\n",
       "      <th>Rc</th>\n",
       "      <th>Water/solid ratio</th>\n",
       "      <th>Density</th>\n",
       "      <th>Gypsum</th>\n",
       "      <th>Vermiculite</th>\n",
       "      <th>Fiberglass</th>\n",
       "      <th>PP Fiber</th>\n",
       "      <th>Coal Fly Ash</th>\n",
       "      <th>Size(mm)</th>\n",
       "      <th>Incineration ash</th>\n",
       "      <th>...</th>\n",
       "      <th>Rice husk ash</th>\n",
       "      <th>Cardoon ash</th>\n",
       "      <th>Poplar ash</th>\n",
       "      <th>MSW ash</th>\n",
       "      <th>Cl2Mg</th>\n",
       "      <th>MgSO4</th>\n",
       "      <th>AlOH3</th>\n",
       "      <th>Metallurgical slag</th>\n",
       "      <th>Coal slag</th>\n",
       "      <th>Construction waste</th>\n",
       "    </tr>\n",
       "  </thead>\n",
       "  <tbody>\n",
       "    <tr>\n",
       "      <th>0</th>\n",
       "      <td>1.320439</td>\n",
       "      <td>0.4</td>\n",
       "      <td>1309.000000</td>\n",
       "      <td>20.0</td>\n",
       "      <td>NaN</td>\n",
       "      <td>NaN</td>\n",
       "      <td>NaN</td>\n",
       "      <td>80.0</td>\n",
       "      <td>NaN</td>\n",
       "      <td>NaN</td>\n",
       "      <td>...</td>\n",
       "      <td>NaN</td>\n",
       "      <td>NaN</td>\n",
       "      <td>NaN</td>\n",
       "      <td>NaN</td>\n",
       "      <td>NaN</td>\n",
       "      <td>NaN</td>\n",
       "      <td>NaN</td>\n",
       "      <td>NaN</td>\n",
       "      <td>NaN</td>\n",
       "      <td>NaN</td>\n",
       "    </tr>\n",
       "    <tr>\n",
       "      <th>1</th>\n",
       "      <td>1.320439</td>\n",
       "      <td>0.4</td>\n",
       "      <td>1371.000000</td>\n",
       "      <td>20.0</td>\n",
       "      <td>NaN</td>\n",
       "      <td>NaN</td>\n",
       "      <td>NaN</td>\n",
       "      <td>80.0</td>\n",
       "      <td>NaN</td>\n",
       "      <td>NaN</td>\n",
       "      <td>...</td>\n",
       "      <td>NaN</td>\n",
       "      <td>NaN</td>\n",
       "      <td>NaN</td>\n",
       "      <td>NaN</td>\n",
       "      <td>NaN</td>\n",
       "      <td>NaN</td>\n",
       "      <td>NaN</td>\n",
       "      <td>NaN</td>\n",
       "      <td>NaN</td>\n",
       "      <td>NaN</td>\n",
       "    </tr>\n",
       "    <tr>\n",
       "      <th>2</th>\n",
       "      <td>0.700407</td>\n",
       "      <td>0.4</td>\n",
       "      <td>849.841788</td>\n",
       "      <td>20.0</td>\n",
       "      <td>NaN</td>\n",
       "      <td>NaN</td>\n",
       "      <td>NaN</td>\n",
       "      <td>80.0</td>\n",
       "      <td>&gt;125 micras</td>\n",
       "      <td>NaN</td>\n",
       "      <td>...</td>\n",
       "      <td>NaN</td>\n",
       "      <td>NaN</td>\n",
       "      <td>NaN</td>\n",
       "      <td>NaN</td>\n",
       "      <td>NaN</td>\n",
       "      <td>NaN</td>\n",
       "      <td>NaN</td>\n",
       "      <td>NaN</td>\n",
       "      <td>NaN</td>\n",
       "      <td>NaN</td>\n",
       "    </tr>\n",
       "    <tr>\n",
       "      <th>3</th>\n",
       "      <td>0.953013</td>\n",
       "      <td>0.4</td>\n",
       "      <td>1042.269832</td>\n",
       "      <td>20.0</td>\n",
       "      <td>NaN</td>\n",
       "      <td>NaN</td>\n",
       "      <td>NaN</td>\n",
       "      <td>80.0</td>\n",
       "      <td>&gt;100 micras</td>\n",
       "      <td>NaN</td>\n",
       "      <td>...</td>\n",
       "      <td>NaN</td>\n",
       "      <td>NaN</td>\n",
       "      <td>NaN</td>\n",
       "      <td>NaN</td>\n",
       "      <td>NaN</td>\n",
       "      <td>NaN</td>\n",
       "      <td>NaN</td>\n",
       "      <td>NaN</td>\n",
       "      <td>NaN</td>\n",
       "      <td>NaN</td>\n",
       "    </tr>\n",
       "    <tr>\n",
       "      <th>4</th>\n",
       "      <td>0.998941</td>\n",
       "      <td>0.4</td>\n",
       "      <td>1050.458259</td>\n",
       "      <td>20.0</td>\n",
       "      <td>NaN</td>\n",
       "      <td>NaN</td>\n",
       "      <td>NaN</td>\n",
       "      <td>80.0</td>\n",
       "      <td>&gt; 65 micras</td>\n",
       "      <td>NaN</td>\n",
       "      <td>...</td>\n",
       "      <td>NaN</td>\n",
       "      <td>NaN</td>\n",
       "      <td>NaN</td>\n",
       "      <td>NaN</td>\n",
       "      <td>NaN</td>\n",
       "      <td>NaN</td>\n",
       "      <td>NaN</td>\n",
       "      <td>NaN</td>\n",
       "      <td>NaN</td>\n",
       "      <td>NaN</td>\n",
       "    </tr>\n",
       "  </tbody>\n",
       "</table>\n",
       "<p>5 rows × 25 columns</p>\n",
       "</div>"
      ],
      "text/plain": [
       "         Rc  Water/solid ratio      Density  Gypsum  Vermiculite  Fiberglass  \\\n",
       "0  1.320439                0.4  1309.000000    20.0          NaN         NaN   \n",
       "1  1.320439                0.4  1371.000000    20.0          NaN         NaN   \n",
       "2  0.700407                0.4   849.841788    20.0          NaN         NaN   \n",
       "3  0.953013                0.4  1042.269832    20.0          NaN         NaN   \n",
       "4  0.998941                0.4  1050.458259    20.0          NaN         NaN   \n",
       "\n",
       "   PP Fiber  Coal Fly Ash     Size(mm)  Incineration ash  ...  Rice husk ash  \\\n",
       "0       NaN          80.0          NaN               NaN  ...            NaN   \n",
       "1       NaN          80.0          NaN               NaN  ...            NaN   \n",
       "2       NaN          80.0  >125 micras               NaN  ...            NaN   \n",
       "3       NaN          80.0  >100 micras               NaN  ...            NaN   \n",
       "4       NaN          80.0  > 65 micras               NaN  ...            NaN   \n",
       "\n",
       "   Cardoon ash  Poplar ash  MSW ash  Cl2Mg  MgSO4  AlOH3  Metallurgical slag  \\\n",
       "0          NaN         NaN      NaN    NaN    NaN    NaN                 NaN   \n",
       "1          NaN         NaN      NaN    NaN    NaN    NaN                 NaN   \n",
       "2          NaN         NaN      NaN    NaN    NaN    NaN                 NaN   \n",
       "3          NaN         NaN      NaN    NaN    NaN    NaN                 NaN   \n",
       "4          NaN         NaN      NaN    NaN    NaN    NaN                 NaN   \n",
       "\n",
       "   Coal slag  Construction waste  \n",
       "0        NaN                 NaN  \n",
       "1        NaN                 NaN  \n",
       "2        NaN                 NaN  \n",
       "3        NaN                 NaN  \n",
       "4        NaN                 NaN  \n",
       "\n",
       "[5 rows x 25 columns]"
      ]
     },
     "execution_count": 6,
     "metadata": {},
     "output_type": "execute_result"
    }
   ],
   "source": [
    "df.head()"
   ]
  },
  {
   "cell_type": "markdown",
   "metadata": {
    "id": "PA93IZr8EhsZ"
   },
   "source": [
    "Dataset variable info"
   ]
  },
  {
   "cell_type": "code",
   "execution_count": 7,
   "metadata": {
    "colab": {
     "base_uri": "https://localhost:8080/"
    },
    "id": "Gg2T9YvWEm8v",
    "outputId": "818fd763-57a0-449f-f8cf-d22aeff8884c"
   },
   "outputs": [
    {
     "name": "stdout",
     "output_type": "stream",
     "text": [
      "<class 'pandas.core.frame.DataFrame'>\n",
      "RangeIndex: 103 entries, 0 to 102\n",
      "Data columns (total 25 columns):\n",
      " #   Column              Non-Null Count  Dtype  \n",
      "---  ------              --------------  -----  \n",
      " 0   Rc                  103 non-null    float64\n",
      " 1   Water/solid ratio   103 non-null    float64\n",
      " 2   Density             101 non-null    float64\n",
      " 3   Gypsum              67 non-null     float64\n",
      " 4   Vermiculite         15 non-null     float64\n",
      " 5   Fiberglass          11 non-null     float64\n",
      " 6   PP Fiber            3 non-null      float64\n",
      " 7   Coal Fly Ash        38 non-null     float64\n",
      " 8   Size(mm)            25 non-null     object \n",
      " 9   Incineration ash    4 non-null      float64\n",
      " 10  APC waste           1 non-null      float64\n",
      " 11  Portland concrete   36 non-null     float64\n",
      " 12  Ladle slag          4 non-null      float64\n",
      " 13  Orujillo slag       5 non-null      float64\n",
      " 14  Orujillo ash        17 non-null     float64\n",
      " 15  Rice husk ash       1 non-null      float64\n",
      " 16  Cardoon ash         4 non-null      float64\n",
      " 17  Poplar ash          2 non-null      float64\n",
      " 18  MSW ash             4 non-null      float64\n",
      " 19  Cl2Mg               2 non-null      float64\n",
      " 20  MgSO4               2 non-null      float64\n",
      " 21  AlOH3               2 non-null      float64\n",
      " 22  Metallurgical slag  7 non-null      float64\n",
      " 23  Coal slag           17 non-null     float64\n",
      " 24  Construction waste  3 non-null      float64\n",
      "dtypes: float64(24), object(1)\n",
      "memory usage: 20.2+ KB\n"
     ]
    }
   ],
   "source": [
    "df.info()"
   ]
  },
  {
   "cell_type": "markdown",
   "metadata": {},
   "source": [
    "Drop de size(mm)"
   ]
  },
  {
   "cell_type": "code",
   "execution_count": 8,
   "metadata": {},
   "outputs": [],
   "source": [
    "df.drop(columns=['Size(mm)'], inplace=True)"
   ]
  },
  {
   "cell_type": "markdown",
   "metadata": {},
   "source": [
    "Filling NaN with 0"
   ]
  },
  {
   "cell_type": "code",
   "execution_count": 9,
   "metadata": {},
   "outputs": [],
   "source": [
    "df.fillna(value = 0, inplace = True)"
   ]
  },
  {
   "cell_type": "code",
   "execution_count": 10,
   "metadata": {},
   "outputs": [
    {
     "data": {
      "text/html": [
       "<div>\n",
       "<style scoped>\n",
       "    .dataframe tbody tr th:only-of-type {\n",
       "        vertical-align: middle;\n",
       "    }\n",
       "\n",
       "    .dataframe tbody tr th {\n",
       "        vertical-align: top;\n",
       "    }\n",
       "\n",
       "    .dataframe thead th {\n",
       "        text-align: right;\n",
       "    }\n",
       "</style>\n",
       "<table border=\"1\" class=\"dataframe\">\n",
       "  <thead>\n",
       "    <tr style=\"text-align: right;\">\n",
       "      <th></th>\n",
       "      <th>Rc</th>\n",
       "      <th>Water/solid ratio</th>\n",
       "      <th>Density</th>\n",
       "      <th>Gypsum</th>\n",
       "      <th>Vermiculite</th>\n",
       "      <th>Fiberglass</th>\n",
       "      <th>PP Fiber</th>\n",
       "      <th>Coal Fly Ash</th>\n",
       "      <th>Incineration ash</th>\n",
       "      <th>APC waste</th>\n",
       "      <th>...</th>\n",
       "      <th>Rice husk ash</th>\n",
       "      <th>Cardoon ash</th>\n",
       "      <th>Poplar ash</th>\n",
       "      <th>MSW ash</th>\n",
       "      <th>Cl2Mg</th>\n",
       "      <th>MgSO4</th>\n",
       "      <th>AlOH3</th>\n",
       "      <th>Metallurgical slag</th>\n",
       "      <th>Coal slag</th>\n",
       "      <th>Construction waste</th>\n",
       "    </tr>\n",
       "  </thead>\n",
       "  <tbody>\n",
       "    <tr>\n",
       "      <th>0</th>\n",
       "      <td>1.320439</td>\n",
       "      <td>0.4</td>\n",
       "      <td>1309.000000</td>\n",
       "      <td>20.0</td>\n",
       "      <td>0.0</td>\n",
       "      <td>0.0</td>\n",
       "      <td>0.0</td>\n",
       "      <td>80.0</td>\n",
       "      <td>0.0</td>\n",
       "      <td>0.0</td>\n",
       "      <td>...</td>\n",
       "      <td>0.0</td>\n",
       "      <td>0.0</td>\n",
       "      <td>0.0</td>\n",
       "      <td>0.0</td>\n",
       "      <td>0.0</td>\n",
       "      <td>0.0</td>\n",
       "      <td>0.0</td>\n",
       "      <td>0.0</td>\n",
       "      <td>0.0</td>\n",
       "      <td>0.0</td>\n",
       "    </tr>\n",
       "    <tr>\n",
       "      <th>1</th>\n",
       "      <td>1.320439</td>\n",
       "      <td>0.4</td>\n",
       "      <td>1371.000000</td>\n",
       "      <td>20.0</td>\n",
       "      <td>0.0</td>\n",
       "      <td>0.0</td>\n",
       "      <td>0.0</td>\n",
       "      <td>80.0</td>\n",
       "      <td>0.0</td>\n",
       "      <td>0.0</td>\n",
       "      <td>...</td>\n",
       "      <td>0.0</td>\n",
       "      <td>0.0</td>\n",
       "      <td>0.0</td>\n",
       "      <td>0.0</td>\n",
       "      <td>0.0</td>\n",
       "      <td>0.0</td>\n",
       "      <td>0.0</td>\n",
       "      <td>0.0</td>\n",
       "      <td>0.0</td>\n",
       "      <td>0.0</td>\n",
       "    </tr>\n",
       "    <tr>\n",
       "      <th>2</th>\n",
       "      <td>0.700407</td>\n",
       "      <td>0.4</td>\n",
       "      <td>849.841788</td>\n",
       "      <td>20.0</td>\n",
       "      <td>0.0</td>\n",
       "      <td>0.0</td>\n",
       "      <td>0.0</td>\n",
       "      <td>80.0</td>\n",
       "      <td>0.0</td>\n",
       "      <td>0.0</td>\n",
       "      <td>...</td>\n",
       "      <td>0.0</td>\n",
       "      <td>0.0</td>\n",
       "      <td>0.0</td>\n",
       "      <td>0.0</td>\n",
       "      <td>0.0</td>\n",
       "      <td>0.0</td>\n",
       "      <td>0.0</td>\n",
       "      <td>0.0</td>\n",
       "      <td>0.0</td>\n",
       "      <td>0.0</td>\n",
       "    </tr>\n",
       "    <tr>\n",
       "      <th>3</th>\n",
       "      <td>0.953013</td>\n",
       "      <td>0.4</td>\n",
       "      <td>1042.269832</td>\n",
       "      <td>20.0</td>\n",
       "      <td>0.0</td>\n",
       "      <td>0.0</td>\n",
       "      <td>0.0</td>\n",
       "      <td>80.0</td>\n",
       "      <td>0.0</td>\n",
       "      <td>0.0</td>\n",
       "      <td>...</td>\n",
       "      <td>0.0</td>\n",
       "      <td>0.0</td>\n",
       "      <td>0.0</td>\n",
       "      <td>0.0</td>\n",
       "      <td>0.0</td>\n",
       "      <td>0.0</td>\n",
       "      <td>0.0</td>\n",
       "      <td>0.0</td>\n",
       "      <td>0.0</td>\n",
       "      <td>0.0</td>\n",
       "    </tr>\n",
       "    <tr>\n",
       "      <th>4</th>\n",
       "      <td>0.998941</td>\n",
       "      <td>0.4</td>\n",
       "      <td>1050.458259</td>\n",
       "      <td>20.0</td>\n",
       "      <td>0.0</td>\n",
       "      <td>0.0</td>\n",
       "      <td>0.0</td>\n",
       "      <td>80.0</td>\n",
       "      <td>0.0</td>\n",
       "      <td>0.0</td>\n",
       "      <td>...</td>\n",
       "      <td>0.0</td>\n",
       "      <td>0.0</td>\n",
       "      <td>0.0</td>\n",
       "      <td>0.0</td>\n",
       "      <td>0.0</td>\n",
       "      <td>0.0</td>\n",
       "      <td>0.0</td>\n",
       "      <td>0.0</td>\n",
       "      <td>0.0</td>\n",
       "      <td>0.0</td>\n",
       "    </tr>\n",
       "  </tbody>\n",
       "</table>\n",
       "<p>5 rows × 24 columns</p>\n",
       "</div>"
      ],
      "text/plain": [
       "         Rc  Water/solid ratio      Density  Gypsum  Vermiculite  Fiberglass  \\\n",
       "0  1.320439                0.4  1309.000000    20.0          0.0         0.0   \n",
       "1  1.320439                0.4  1371.000000    20.0          0.0         0.0   \n",
       "2  0.700407                0.4   849.841788    20.0          0.0         0.0   \n",
       "3  0.953013                0.4  1042.269832    20.0          0.0         0.0   \n",
       "4  0.998941                0.4  1050.458259    20.0          0.0         0.0   \n",
       "\n",
       "   PP Fiber  Coal Fly Ash  Incineration ash  APC waste  ...  Rice husk ash  \\\n",
       "0       0.0          80.0               0.0        0.0  ...            0.0   \n",
       "1       0.0          80.0               0.0        0.0  ...            0.0   \n",
       "2       0.0          80.0               0.0        0.0  ...            0.0   \n",
       "3       0.0          80.0               0.0        0.0  ...            0.0   \n",
       "4       0.0          80.0               0.0        0.0  ...            0.0   \n",
       "\n",
       "   Cardoon ash  Poplar ash  MSW ash  Cl2Mg  MgSO4  AlOH3  Metallurgical slag  \\\n",
       "0          0.0         0.0      0.0    0.0    0.0    0.0                 0.0   \n",
       "1          0.0         0.0      0.0    0.0    0.0    0.0                 0.0   \n",
       "2          0.0         0.0      0.0    0.0    0.0    0.0                 0.0   \n",
       "3          0.0         0.0      0.0    0.0    0.0    0.0                 0.0   \n",
       "4          0.0         0.0      0.0    0.0    0.0    0.0                 0.0   \n",
       "\n",
       "   Coal slag  Construction waste  \n",
       "0        0.0                 0.0  \n",
       "1        0.0                 0.0  \n",
       "2        0.0                 0.0  \n",
       "3        0.0                 0.0  \n",
       "4        0.0                 0.0  \n",
       "\n",
       "[5 rows x 24 columns]"
      ]
     },
     "execution_count": 10,
     "metadata": {},
     "output_type": "execute_result"
    }
   ],
   "source": [
    "df.head()"
   ]
  },
  {
   "cell_type": "code",
   "execution_count": 11,
   "metadata": {},
   "outputs": [
    {
     "data": {
      "image/png": "[encoded data removed]",
      "text/plain": [
       "<Figure size 640x480 with 1 Axes>"
      ]
     },
     "metadata": {},
     "output_type": "display_data"
    }
   ],
   "source": [
    "sns.histplot(data=df, x='Rc', bins=100, kde=True, color='blue', alpha=0.7)\n",
    "\n",
    "plt.title('Rc histplot')\n",
    "plt.xlabel('Rc')\n",
    "plt.ylabel('Frecuency')\n",
    "\n",
    "plt.show()"
   ]
  },
  {
   "cell_type": "markdown",
   "metadata": {},
   "source": [
    "Changing to classification"
   ]
  },
  {
   "cell_type": "code",
   "execution_count": 12,
   "metadata": {},
   "outputs": [],
   "source": [
    "def assign_rc(value):\n",
    "    if value < 1:\n",
    "        return '0 - 1 MPa'\n",
    "    if 1 <= value < 5:\n",
    "        return '1 - 5 MPa'\n",
    "    elif 5 <= value <= 10:\n",
    "        return '5 - 10 MPa'\n",
    "    elif value > 10:\n",
    "        return '> 10 MPa'\n",
    "    else:\n",
    "        return None"
   ]
  },
  {
   "cell_type": "code",
   "execution_count": 13,
   "metadata": {},
   "outputs": [],
   "source": [
    "df['CR'] = df['Rc'].apply(assign_rc)"
   ]
  },
  {
   "cell_type": "code",
   "execution_count": 14,
   "metadata": {},
   "outputs": [
    {
     "data": {
      "text/html": [
       "<div>\n",
       "<style scoped>\n",
       "    .dataframe tbody tr th:only-of-type {\n",
       "        vertical-align: middle;\n",
       "    }\n",
       "\n",
       "    .dataframe tbody tr th {\n",
       "        vertical-align: top;\n",
       "    }\n",
       "\n",
       "    .dataframe thead th {\n",
       "        text-align: right;\n",
       "    }\n",
       "</style>\n",
       "<table border=\"1\" class=\"dataframe\">\n",
       "  <thead>\n",
       "    <tr style=\"text-align: right;\">\n",
       "      <th></th>\n",
       "      <th>Rc</th>\n",
       "      <th>Water/solid ratio</th>\n",
       "      <th>Density</th>\n",
       "      <th>Gypsum</th>\n",
       "      <th>Vermiculite</th>\n",
       "      <th>Fiberglass</th>\n",
       "      <th>PP Fiber</th>\n",
       "      <th>Coal Fly Ash</th>\n",
       "      <th>Incineration ash</th>\n",
       "      <th>APC waste</th>\n",
       "      <th>...</th>\n",
       "      <th>Cardoon ash</th>\n",
       "      <th>Poplar ash</th>\n",
       "      <th>MSW ash</th>\n",
       "      <th>Cl2Mg</th>\n",
       "      <th>MgSO4</th>\n",
       "      <th>AlOH3</th>\n",
       "      <th>Metallurgical slag</th>\n",
       "      <th>Coal slag</th>\n",
       "      <th>Construction waste</th>\n",
       "      <th>CR</th>\n",
       "    </tr>\n",
       "  </thead>\n",
       "  <tbody>\n",
       "    <tr>\n",
       "      <th>98</th>\n",
       "      <td>12.0</td>\n",
       "      <td>0.775</td>\n",
       "      <td>2408.0</td>\n",
       "      <td>0.0</td>\n",
       "      <td>0.0</td>\n",
       "      <td>0.0</td>\n",
       "      <td>0.0</td>\n",
       "      <td>0.0</td>\n",
       "      <td>0.0</td>\n",
       "      <td>0.0</td>\n",
       "      <td>...</td>\n",
       "      <td>0.0</td>\n",
       "      <td>0.0</td>\n",
       "      <td>0.0</td>\n",
       "      <td>0.0</td>\n",
       "      <td>0.0</td>\n",
       "      <td>0.0</td>\n",
       "      <td>80.0</td>\n",
       "      <td>0.0</td>\n",
       "      <td>0.0</td>\n",
       "      <td>&gt; 10 MPa</td>\n",
       "    </tr>\n",
       "    <tr>\n",
       "      <th>99</th>\n",
       "      <td>1.9</td>\n",
       "      <td>0.845</td>\n",
       "      <td>970.0</td>\n",
       "      <td>0.0</td>\n",
       "      <td>0.0</td>\n",
       "      <td>0.0</td>\n",
       "      <td>0.0</td>\n",
       "      <td>0.0</td>\n",
       "      <td>0.0</td>\n",
       "      <td>0.0</td>\n",
       "      <td>...</td>\n",
       "      <td>0.0</td>\n",
       "      <td>0.0</td>\n",
       "      <td>0.0</td>\n",
       "      <td>0.0</td>\n",
       "      <td>0.0</td>\n",
       "      <td>0.0</td>\n",
       "      <td>0.0</td>\n",
       "      <td>0.0</td>\n",
       "      <td>80.0</td>\n",
       "      <td>1 - 5 MPa</td>\n",
       "    </tr>\n",
       "    <tr>\n",
       "      <th>100</th>\n",
       "      <td>3.6</td>\n",
       "      <td>1.050</td>\n",
       "      <td>1120.0</td>\n",
       "      <td>0.0</td>\n",
       "      <td>0.0</td>\n",
       "      <td>0.0</td>\n",
       "      <td>0.0</td>\n",
       "      <td>0.0</td>\n",
       "      <td>0.0</td>\n",
       "      <td>0.0</td>\n",
       "      <td>...</td>\n",
       "      <td>0.0</td>\n",
       "      <td>0.0</td>\n",
       "      <td>0.0</td>\n",
       "      <td>0.0</td>\n",
       "      <td>0.0</td>\n",
       "      <td>0.0</td>\n",
       "      <td>0.0</td>\n",
       "      <td>0.0</td>\n",
       "      <td>80.0</td>\n",
       "      <td>1 - 5 MPa</td>\n",
       "    </tr>\n",
       "    <tr>\n",
       "      <th>101</th>\n",
       "      <td>6.8</td>\n",
       "      <td>1.550</td>\n",
       "      <td>1455.0</td>\n",
       "      <td>0.0</td>\n",
       "      <td>0.0</td>\n",
       "      <td>0.0</td>\n",
       "      <td>0.0</td>\n",
       "      <td>0.0</td>\n",
       "      <td>0.0</td>\n",
       "      <td>0.0</td>\n",
       "      <td>...</td>\n",
       "      <td>0.0</td>\n",
       "      <td>0.0</td>\n",
       "      <td>0.0</td>\n",
       "      <td>0.0</td>\n",
       "      <td>0.0</td>\n",
       "      <td>0.0</td>\n",
       "      <td>0.0</td>\n",
       "      <td>0.0</td>\n",
       "      <td>80.0</td>\n",
       "      <td>5 - 10 MPa</td>\n",
       "    </tr>\n",
       "    <tr>\n",
       "      <th>102</th>\n",
       "      <td>2.9</td>\n",
       "      <td>0.500</td>\n",
       "      <td>886.9</td>\n",
       "      <td>0.0</td>\n",
       "      <td>9.5</td>\n",
       "      <td>0.5</td>\n",
       "      <td>0.0</td>\n",
       "      <td>60.0</td>\n",
       "      <td>0.0</td>\n",
       "      <td>0.0</td>\n",
       "      <td>...</td>\n",
       "      <td>0.0</td>\n",
       "      <td>0.0</td>\n",
       "      <td>0.0</td>\n",
       "      <td>0.0</td>\n",
       "      <td>0.0</td>\n",
       "      <td>0.0</td>\n",
       "      <td>0.0</td>\n",
       "      <td>0.0</td>\n",
       "      <td>0.0</td>\n",
       "      <td>1 - 5 MPa</td>\n",
       "    </tr>\n",
       "  </tbody>\n",
       "</table>\n",
       "<p>5 rows × 25 columns</p>\n",
       "</div>"
      ],
      "text/plain": [
       "       Rc  Water/solid ratio  Density  Gypsum  Vermiculite  Fiberglass  \\\n",
       "98   12.0              0.775   2408.0     0.0          0.0         0.0   \n",
       "99    1.9              0.845    970.0     0.0          0.0         0.0   \n",
       "100   3.6              1.050   1120.0     0.0          0.0         0.0   \n",
       "101   6.8              1.550   1455.0     0.0          0.0         0.0   \n",
       "102   2.9              0.500    886.9     0.0          9.5         0.5   \n",
       "\n",
       "     PP Fiber  Coal Fly Ash  Incineration ash  APC waste  ...  Cardoon ash  \\\n",
       "98        0.0           0.0               0.0        0.0  ...          0.0   \n",
       "99        0.0           0.0               0.0        0.0  ...          0.0   \n",
       "100       0.0           0.0               0.0        0.0  ...          0.0   \n",
       "101       0.0           0.0               0.0        0.0  ...          0.0   \n",
       "102       0.0          60.0               0.0        0.0  ...          0.0   \n",
       "\n",
       "     Poplar ash  MSW ash  Cl2Mg  MgSO4  AlOH3  Metallurgical slag  Coal slag  \\\n",
       "98          0.0      0.0    0.0    0.0    0.0                80.0        0.0   \n",
       "99          0.0      0.0    0.0    0.0    0.0                 0.0        0.0   \n",
       "100         0.0      0.0    0.0    0.0    0.0                 0.0        0.0   \n",
       "101         0.0      0.0    0.0    0.0    0.0                 0.0        0.0   \n",
       "102         0.0      0.0    0.0    0.0    0.0                 0.0        0.0   \n",
       "\n",
       "     Construction waste          CR  \n",
       "98                  0.0    > 10 MPa  \n",
       "99                 80.0   1 - 5 MPa  \n",
       "100                80.0   1 - 5 MPa  \n",
       "101                80.0  5 - 10 MPa  \n",
       "102                 0.0   1 - 5 MPa  \n",
       "\n",
       "[5 rows x 25 columns]"
      ]
     },
     "execution_count": 14,
     "metadata": {},
     "output_type": "execute_result"
    }
   ],
   "source": [
    "df.tail()"
   ]
  },
  {
   "cell_type": "markdown",
   "metadata": {},
   "source": [
    "Checking class distribution"
   ]
  },
  {
   "cell_type": "code",
   "execution_count": 15,
   "metadata": {},
   "outputs": [
    {
     "data": {
      "image/png": "[encoded data removed]",
      "text/plain": [
       "<Figure size 640x480 with 1 Axes>"
      ]
     },
     "metadata": {},
     "output_type": "display_data"
    }
   ],
   "source": [
    "rc_counts = df['CR'].value_counts()\n",
    "\n",
    "rc_counts.plot(kind='bar')\n",
    "\n",
    "plt.title('CR column distribution')\n",
    "plt.xlabel('RC class')\n",
    "plt.ylabel('Values')\n",
    "\n",
    "plt.show()"
   ]
  },
  {
   "cell_type": "markdown",
   "metadata": {},
   "source": [
    "Oversampling"
   ]
  },
  {
   "cell_type": "code",
   "execution_count": 16,
   "metadata": {},
   "outputs": [
    {
     "data": {
      "image/png": "[encoded data removed]",
      "text/plain": [
       "<Figure size 640x480 with 1 Axes>"
      ]
     },
     "metadata": {},
     "output_type": "display_data"
    }
   ],
   "source": [
    "rc_counts = df['CR'].value_counts()\n",
    "\n",
    "max_count = rc_counts.max()\n",
    "\n",
    "dfs = [df]\n",
    "for category in rc_counts.index:\n",
    "    df_category = df[df['CR'] == category]\n",
    "    df_category_upsampled = resample(df_category, \n",
    "                                     replace=True,    # Sobremuestreo con reemplazo\n",
    "                                     n_samples=max_count,  # Número de ejemplos en la categoría más frecuente\n",
    "                                     random_state=42)  # Para reproducibilidad\n",
    "    dfs.append(df_category_upsampled)\n",
    "\n",
    "df_balanced = pd.concat(dfs)\n",
    "\n",
    "rf_balanced_counts = df_balanced['CR'].value_counts()\n",
    "\n",
    "rf_balanced_counts.plot(kind='bar')\n",
    "\n",
    "plt.title('CR column distribution')\n",
    "plt.xlabel('RC class')\n",
    "plt.ylabel('Values')\n",
    "\n",
    "plt.show()"
   ]
  },
  {
   "cell_type": "markdown",
   "metadata": {
    "id": "rNoH40hh9zod"
   },
   "source": [
    "## Features and target split"
   ]
  },
  {
   "cell_type": "code",
   "execution_count": 17,
   "metadata": {
    "id": "8SynZDyn9K8Z"
   },
   "outputs": [],
   "source": [
    "cat_feat = []\n",
    "bin_feat = []\n",
    "target = 'CR'\n",
    "exc = 'Rc'\n",
    "exclude = cat_feat + bin_feat + [target] + [exc]\n",
    "num_feat = [col for col in df_balanced.columns if col not in exclude]"
   ]
  },
  {
   "cell_type": "code",
   "execution_count": 18,
   "metadata": {},
   "outputs": [],
   "source": [
    "df_fs = df_balanced.drop(columns = target)\n",
    "df_fs = df_fs.drop(columns = exc)\n",
    "df_target = df_balanced[target]"
   ]
  },
  {
   "cell_type": "code",
   "execution_count": 19,
   "metadata": {},
   "outputs": [],
   "source": [
    "df_fs.reset_index(drop = True, inplace = True)\n",
    "df_target.reset_index(drop = True, inplace = True)"
   ]
  },
  {
   "cell_type": "code",
   "execution_count": 20,
   "metadata": {},
   "outputs": [],
   "source": [
    "fs = feat_selec(data = df_fs , labels = df_target)"
   ]
  },
  {
   "cell_type": "code",
   "execution_count": 21,
   "metadata": {},
   "outputs": [
    {
     "name": "stdout",
     "output_type": "stream",
     "text": [
      "0 features with greater than 0.00 missing values.\n",
      "\n"
     ]
    }
   ],
   "source": [
    "fs.identify_missing(missing_threshold=0)"
   ]
  },
  {
   "cell_type": "code",
   "execution_count": 22,
   "metadata": {},
   "outputs": [
    {
     "name": "stdout",
     "output_type": "stream",
     "text": [
      "0 features with a single unique value.\n",
      "\n"
     ]
    }
   ],
   "source": [
    "fs.identify_single_unique()"
   ]
  },
  {
   "cell_type": "code",
   "execution_count": 23,
   "metadata": {},
   "outputs": [
    {
     "data": {
      "text/plain": [
       "[]"
      ]
     },
     "execution_count": 23,
     "metadata": {},
     "output_type": "execute_result"
    }
   ],
   "source": [
    "single_unique = fs.ops['single_unique']\n",
    "single_unique"
   ]
  },
  {
   "cell_type": "code",
   "execution_count": 24,
   "metadata": {},
   "outputs": [
    {
     "data": {
      "image/png": "[encoded data removed]",
      "text/plain": [
       "<Figure size 700x500 with 1 Axes>"
      ]
     },
     "metadata": {},
     "output_type": "display_data"
    }
   ],
   "source": [
    "fs.plot_unique()"
   ]
  },
  {
   "cell_type": "code",
   "execution_count": 25,
   "metadata": {},
   "outputs": [
    {
     "data": {
      "text/html": [
       "<div>\n",
       "<style scoped>\n",
       "    .dataframe tbody tr th:only-of-type {\n",
       "        vertical-align: middle;\n",
       "    }\n",
       "\n",
       "    .dataframe tbody tr th {\n",
       "        vertical-align: top;\n",
       "    }\n",
       "\n",
       "    .dataframe thead th {\n",
       "        text-align: right;\n",
       "    }\n",
       "</style>\n",
       "<table border=\"1\" class=\"dataframe\">\n",
       "  <thead>\n",
       "    <tr style=\"text-align: right;\">\n",
       "      <th></th>\n",
       "      <th>nunique</th>\n",
       "    </tr>\n",
       "  </thead>\n",
       "  <tbody>\n",
       "    <tr>\n",
       "      <th>Portland concrete</th>\n",
       "      <td>10</td>\n",
       "    </tr>\n",
       "    <tr>\n",
       "      <th>Orujillo ash</th>\n",
       "      <td>8</td>\n",
       "    </tr>\n",
       "    <tr>\n",
       "      <th>Vermiculite</th>\n",
       "      <td>4</td>\n",
       "    </tr>\n",
       "    <tr>\n",
       "      <th>Incineration ash</th>\n",
       "      <td>3</td>\n",
       "    </tr>\n",
       "    <tr>\n",
       "      <th>Fiberglass</th>\n",
       "      <td>4</td>\n",
       "    </tr>\n",
       "    <tr>\n",
       "      <th>Water/solid ratio</th>\n",
       "      <td>26</td>\n",
       "    </tr>\n",
       "    <tr>\n",
       "      <th>Density</th>\n",
       "      <td>94</td>\n",
       "    </tr>\n",
       "    <tr>\n",
       "      <th>MSW ash</th>\n",
       "      <td>2</td>\n",
       "    </tr>\n",
       "    <tr>\n",
       "      <th>Construction waste</th>\n",
       "      <td>2</td>\n",
       "    </tr>\n",
       "    <tr>\n",
       "      <th>Cl2Mg</th>\n",
       "      <td>3</td>\n",
       "    </tr>\n",
       "  </tbody>\n",
       "</table>\n",
       "</div>"
      ],
      "text/plain": [
       "                    nunique\n",
       "Portland concrete        10\n",
       "Orujillo ash              8\n",
       "Vermiculite               4\n",
       "Incineration ash          3\n",
       "Fiberglass                4\n",
       "Water/solid ratio        26\n",
       "Density                  94\n",
       "MSW ash                   2\n",
       "Construction waste        2\n",
       "Cl2Mg                     3"
      ]
     },
     "execution_count": 25,
     "metadata": {},
     "output_type": "execute_result"
    }
   ],
   "source": [
    "fs.unique_stats.sample(10)"
   ]
  },
  {
   "cell_type": "code",
   "execution_count": 26,
   "metadata": {},
   "outputs": [
    {
     "name": "stdout",
     "output_type": "stream",
     "text": [
      "0 features with a correlation magnitude greater than 0.90.\n",
      "\n"
     ]
    }
   ],
   "source": [
    "fs.identify_collinear(correlation_threshold=0.9, one_hot = False)"
   ]
  },
  {
   "cell_type": "code",
   "execution_count": 27,
   "metadata": {},
   "outputs": [],
   "source": [
    "correlated_features = fs.ops['collinear']"
   ]
  },
  {
   "cell_type": "code",
   "execution_count": 28,
   "metadata": {},
   "outputs": [
    {
     "data": {
      "text/plain": [
       "[]"
      ]
     },
     "execution_count": 28,
     "metadata": {},
     "output_type": "execute_result"
    }
   ],
   "source": [
    "correlated_features"
   ]
  },
  {
   "cell_type": "code",
   "execution_count": 29,
   "metadata": {},
   "outputs": [
    {
     "data": {
      "text/html": [
       "<div>\n",
       "<style scoped>\n",
       "    .dataframe tbody tr th:only-of-type {\n",
       "        vertical-align: middle;\n",
       "    }\n",
       "\n",
       "    .dataframe tbody tr th {\n",
       "        vertical-align: top;\n",
       "    }\n",
       "\n",
       "    .dataframe thead th {\n",
       "        text-align: right;\n",
       "    }\n",
       "</style>\n",
       "<table border=\"1\" class=\"dataframe\">\n",
       "  <thead>\n",
       "    <tr style=\"text-align: right;\">\n",
       "      <th></th>\n",
       "      <th>drop_feature</th>\n",
       "      <th>corr_feature</th>\n",
       "      <th>corr_value</th>\n",
       "    </tr>\n",
       "  </thead>\n",
       "  <tbody>\n",
       "  </tbody>\n",
       "</table>\n",
       "</div>"
      ],
      "text/plain": [
       "Empty DataFrame\n",
       "Columns: [drop_feature, corr_feature, corr_value]\n",
       "Index: []"
      ]
     },
     "execution_count": 29,
     "metadata": {},
     "output_type": "execute_result"
    }
   ],
   "source": [
    "fs.record_collinear"
   ]
  },
  {
   "cell_type": "code",
   "execution_count": 30,
   "metadata": {},
   "outputs": [],
   "source": [
    "#df_fs = fs.remove(methods = ['collinear'], keep_one_hot = False)"
   ]
  },
  {
   "cell_type": "code",
   "execution_count": 31,
   "metadata": {},
   "outputs": [
    {
     "data": {
      "text/plain": [
       "(303, 23)"
      ]
     },
     "execution_count": 31,
     "metadata": {},
     "output_type": "execute_result"
    }
   ],
   "source": [
    "df_fs.shape"
   ]
  },
  {
   "cell_type": "code",
   "execution_count": 32,
   "metadata": {},
   "outputs": [
    {
     "data": {
      "text/html": [
       "<div>\n",
       "<style scoped>\n",
       "    .dataframe tbody tr th:only-of-type {\n",
       "        vertical-align: middle;\n",
       "    }\n",
       "\n",
       "    .dataframe tbody tr th {\n",
       "        vertical-align: top;\n",
       "    }\n",
       "\n",
       "    .dataframe thead th {\n",
       "        text-align: right;\n",
       "    }\n",
       "</style>\n",
       "<table border=\"1\" class=\"dataframe\">\n",
       "  <thead>\n",
       "    <tr style=\"text-align: right;\">\n",
       "      <th></th>\n",
       "      <th>Water/solid ratio</th>\n",
       "      <th>Density</th>\n",
       "      <th>Gypsum</th>\n",
       "      <th>Vermiculite</th>\n",
       "      <th>Fiberglass</th>\n",
       "      <th>PP Fiber</th>\n",
       "      <th>Coal Fly Ash</th>\n",
       "      <th>Incineration ash</th>\n",
       "      <th>APC waste</th>\n",
       "      <th>Portland concrete</th>\n",
       "      <th>...</th>\n",
       "      <th>Rice husk ash</th>\n",
       "      <th>Cardoon ash</th>\n",
       "      <th>Poplar ash</th>\n",
       "      <th>MSW ash</th>\n",
       "      <th>Cl2Mg</th>\n",
       "      <th>MgSO4</th>\n",
       "      <th>AlOH3</th>\n",
       "      <th>Metallurgical slag</th>\n",
       "      <th>Coal slag</th>\n",
       "      <th>Construction waste</th>\n",
       "    </tr>\n",
       "  </thead>\n",
       "  <tbody>\n",
       "    <tr>\n",
       "      <th>0</th>\n",
       "      <td>0.4</td>\n",
       "      <td>1309.000000</td>\n",
       "      <td>20.0</td>\n",
       "      <td>0.0</td>\n",
       "      <td>0.0</td>\n",
       "      <td>0.0</td>\n",
       "      <td>80.0</td>\n",
       "      <td>0.0</td>\n",
       "      <td>0.0</td>\n",
       "      <td>0.0</td>\n",
       "      <td>...</td>\n",
       "      <td>0.0</td>\n",
       "      <td>0.0</td>\n",
       "      <td>0.0</td>\n",
       "      <td>0.0</td>\n",
       "      <td>0.0</td>\n",
       "      <td>0.0</td>\n",
       "      <td>0.0</td>\n",
       "      <td>0.0</td>\n",
       "      <td>0.0</td>\n",
       "      <td>0.0</td>\n",
       "    </tr>\n",
       "    <tr>\n",
       "      <th>1</th>\n",
       "      <td>0.4</td>\n",
       "      <td>1371.000000</td>\n",
       "      <td>20.0</td>\n",
       "      <td>0.0</td>\n",
       "      <td>0.0</td>\n",
       "      <td>0.0</td>\n",
       "      <td>80.0</td>\n",
       "      <td>0.0</td>\n",
       "      <td>0.0</td>\n",
       "      <td>0.0</td>\n",
       "      <td>...</td>\n",
       "      <td>0.0</td>\n",
       "      <td>0.0</td>\n",
       "      <td>0.0</td>\n",
       "      <td>0.0</td>\n",
       "      <td>0.0</td>\n",
       "      <td>0.0</td>\n",
       "      <td>0.0</td>\n",
       "      <td>0.0</td>\n",
       "      <td>0.0</td>\n",
       "      <td>0.0</td>\n",
       "    </tr>\n",
       "    <tr>\n",
       "      <th>2</th>\n",
       "      <td>0.4</td>\n",
       "      <td>849.841788</td>\n",
       "      <td>20.0</td>\n",
       "      <td>0.0</td>\n",
       "      <td>0.0</td>\n",
       "      <td>0.0</td>\n",
       "      <td>80.0</td>\n",
       "      <td>0.0</td>\n",
       "      <td>0.0</td>\n",
       "      <td>0.0</td>\n",
       "      <td>...</td>\n",
       "      <td>0.0</td>\n",
       "      <td>0.0</td>\n",
       "      <td>0.0</td>\n",
       "      <td>0.0</td>\n",
       "      <td>0.0</td>\n",
       "      <td>0.0</td>\n",
       "      <td>0.0</td>\n",
       "      <td>0.0</td>\n",
       "      <td>0.0</td>\n",
       "      <td>0.0</td>\n",
       "    </tr>\n",
       "    <tr>\n",
       "      <th>3</th>\n",
       "      <td>0.4</td>\n",
       "      <td>1042.269832</td>\n",
       "      <td>20.0</td>\n",
       "      <td>0.0</td>\n",
       "      <td>0.0</td>\n",
       "      <td>0.0</td>\n",
       "      <td>80.0</td>\n",
       "      <td>0.0</td>\n",
       "      <td>0.0</td>\n",
       "      <td>0.0</td>\n",
       "      <td>...</td>\n",
       "      <td>0.0</td>\n",
       "      <td>0.0</td>\n",
       "      <td>0.0</td>\n",
       "      <td>0.0</td>\n",
       "      <td>0.0</td>\n",
       "      <td>0.0</td>\n",
       "      <td>0.0</td>\n",
       "      <td>0.0</td>\n",
       "      <td>0.0</td>\n",
       "      <td>0.0</td>\n",
       "    </tr>\n",
       "    <tr>\n",
       "      <th>4</th>\n",
       "      <td>0.4</td>\n",
       "      <td>1050.458259</td>\n",
       "      <td>20.0</td>\n",
       "      <td>0.0</td>\n",
       "      <td>0.0</td>\n",
       "      <td>0.0</td>\n",
       "      <td>80.0</td>\n",
       "      <td>0.0</td>\n",
       "      <td>0.0</td>\n",
       "      <td>0.0</td>\n",
       "      <td>...</td>\n",
       "      <td>0.0</td>\n",
       "      <td>0.0</td>\n",
       "      <td>0.0</td>\n",
       "      <td>0.0</td>\n",
       "      <td>0.0</td>\n",
       "      <td>0.0</td>\n",
       "      <td>0.0</td>\n",
       "      <td>0.0</td>\n",
       "      <td>0.0</td>\n",
       "      <td>0.0</td>\n",
       "    </tr>\n",
       "  </tbody>\n",
       "</table>\n",
       "<p>5 rows × 23 columns</p>\n",
       "</div>"
      ],
      "text/plain": [
       "   Water/solid ratio      Density  Gypsum  Vermiculite  Fiberglass  PP Fiber  \\\n",
       "0                0.4  1309.000000    20.0          0.0         0.0       0.0   \n",
       "1                0.4  1371.000000    20.0          0.0         0.0       0.0   \n",
       "2                0.4   849.841788    20.0          0.0         0.0       0.0   \n",
       "3                0.4  1042.269832    20.0          0.0         0.0       0.0   \n",
       "4                0.4  1050.458259    20.0          0.0         0.0       0.0   \n",
       "\n",
       "   Coal Fly Ash  Incineration ash  APC waste  Portland concrete  ...  \\\n",
       "0          80.0               0.0        0.0                0.0  ...   \n",
       "1          80.0               0.0        0.0                0.0  ...   \n",
       "2          80.0               0.0        0.0                0.0  ...   \n",
       "3          80.0               0.0        0.0                0.0  ...   \n",
       "4          80.0               0.0        0.0                0.0  ...   \n",
       "\n",
       "   Rice husk ash  Cardoon ash  Poplar ash  MSW ash  Cl2Mg  MgSO4  AlOH3  \\\n",
       "0            0.0          0.0         0.0      0.0    0.0    0.0    0.0   \n",
       "1            0.0          0.0         0.0      0.0    0.0    0.0    0.0   \n",
       "2            0.0          0.0         0.0      0.0    0.0    0.0    0.0   \n",
       "3            0.0          0.0         0.0      0.0    0.0    0.0    0.0   \n",
       "4            0.0          0.0         0.0      0.0    0.0    0.0    0.0   \n",
       "\n",
       "   Metallurgical slag  Coal slag  Construction waste  \n",
       "0                 0.0        0.0                 0.0  \n",
       "1                 0.0        0.0                 0.0  \n",
       "2                 0.0        0.0                 0.0  \n",
       "3                 0.0        0.0                 0.0  \n",
       "4                 0.0        0.0                 0.0  \n",
       "\n",
       "[5 rows x 23 columns]"
      ]
     },
     "execution_count": 32,
     "metadata": {},
     "output_type": "execute_result"
    }
   ],
   "source": [
    "df_fs.head()"
   ]
  },
  {
   "cell_type": "code",
   "execution_count": 33,
   "metadata": {},
   "outputs": [],
   "source": [
    "df_target = df_target.astype('category')"
   ]
  },
  {
   "cell_type": "code",
   "execution_count": 34,
   "metadata": {},
   "outputs": [
    {
     "name": "stdout",
     "output_type": "stream",
     "text": [
      "<class 'pandas.core.series.Series'>\n",
      "RangeIndex: 303 entries, 0 to 302\n",
      "Series name: CR\n",
      "Non-Null Count  Dtype   \n",
      "--------------  -----   \n",
      "303 non-null    category\n",
      "dtypes: category(1)\n",
      "memory usage: 635.0 bytes\n"
     ]
    }
   ],
   "source": [
    "df_target.info()"
   ]
  },
  {
   "cell_type": "code",
   "execution_count": 35,
   "metadata": {},
   "outputs": [],
   "source": [
    "map_dict = {'0 - 1 MPa': 0, '1 - 5 MPa': 1, '5 - 10 MPa': 2, '> 10 MPa': 3}"
   ]
  },
  {
   "cell_type": "code",
   "execution_count": 36,
   "metadata": {},
   "outputs": [],
   "source": [
    "df_target = df_target.map(map_dict)"
   ]
  },
  {
   "cell_type": "code",
   "execution_count": 37,
   "metadata": {},
   "outputs": [
    {
     "data": {
      "text/plain": [
       "0    1\n",
       "1    1\n",
       "2    0\n",
       "3    0\n",
       "4    0\n",
       "Name: CR, dtype: category\n",
       "Categories (4, int64): [0, 1, 2, 3]"
      ]
     },
     "execution_count": 37,
     "metadata": {},
     "output_type": "execute_result"
    }
   ],
   "source": [
    "df_target.head()"
   ]
  },
  {
   "cell_type": "code",
   "execution_count": 38,
   "metadata": {},
   "outputs": [],
   "source": [
    "feat_selector = FeatureSelector(modeling_type='classification',\n",
    "                                X_train=df_fs,\n",
    "                                y_train=df_target,\n",
    "                                X_test=None,\n",
    "                                y_test=None,\n",
    "                                numeric_columns=num_feat,\n",
    "                                categorical_columns=bin_feat,\n",
    "                                seed=24)"
   ]
  },
  {
   "cell_type": "code",
   "execution_count": 39,
   "metadata": {},
   "outputs": [
    {
     "data": {
      "image/png": "[encoded data removed]",
      "text/plain": [
       "<Figure size 2000x1000 with 1 Axes>"
      ]
     },
     "metadata": {},
     "output_type": "display_data"
    }
   ],
   "source": [
    "lgbm_importance_df = feat_selector.lgbm_importance(hyperparam_dict=None,\n",
    "                                                   objective=None,\n",
    "                                                   return_plot=True)"
   ]
  },
  {
   "cell_type": "code",
   "execution_count": 40,
   "metadata": {},
   "outputs": [
    {
     "data": {
      "image/png": "[encoded data removed]",
      "text/plain": [
       "<Figure size 2000x1000 with 1 Axes>"
      ]
     },
     "metadata": {},
     "output_type": "display_data"
    }
   ],
   "source": [
    "#Train LightGBM model & return importance results as pd.DataFrame \n",
    "xgb_importance_df = feat_selector.xgb_importance(hyperparam_dict=None,\n",
    "                                                   objective=None,\n",
    "                                                   return_plot=True)\n",
    "\n",
    "\n",
    "#Apply RFECV with using LightGBM as the estimator & return importance results as pd.DataFrame \n",
    "xgb_hyperparams = {'learning_rate': 0.001, 'max_depth': 6, 'n_estimators': 400,\n",
    "                    'num_leaves': 30, 'random_state':24, 'importance_type':'gain'\n",
    "                   }\n"
   ]
  },
  {
   "cell_type": "code",
   "execution_count": 41,
   "metadata": {},
   "outputs": [
    {
     "name": "stdout",
     "output_type": "stream",
     "text": [
      "XGBoost Feature Importance is finished\n"
     ]
    }
   ],
   "source": [
    "#Automated correlation analysis & applying multiple feature selection methods\n",
    "feat_selector = AutoFeatureSelect(modeling_type='classification',\n",
    "                                X_train=df_fs,\n",
    "                                y_train=df_target,\n",
    "                                X_test=None,\n",
    "                                y_test=None,\n",
    "                                numeric_columns=num_feat,\n",
    "                                categorical_columns=bin_feat,\n",
    "                                seed=24)\n",
    "\n",
    "corr_features = feat_selector.calculate_correlated_features(static_features=None,\n",
    "                                                            num_threshold=0.99,\n",
    "                                                            cat_threshold=0.99)\n",
    "\n",
    "feat_selector.drop_correlated_features()\n",
    "\n",
    "final_importance_df = feat_selector.apply_feature_selection(selection_methods=['xgb'])"
   ]
  },
  {
   "cell_type": "code",
   "execution_count": 42,
   "metadata": {},
   "outputs": [
    {
     "data": {
      "text/html": [
       "<div>\n",
       "<style scoped>\n",
       "    .dataframe tbody tr th:only-of-type {\n",
       "        vertical-align: middle;\n",
       "    }\n",
       "\n",
       "    .dataframe tbody tr th {\n",
       "        vertical-align: top;\n",
       "    }\n",
       "\n",
       "    .dataframe thead th {\n",
       "        text-align: right;\n",
       "    }\n",
       "</style>\n",
       "<table border=\"1\" class=\"dataframe\">\n",
       "  <thead>\n",
       "    <tr style=\"text-align: right;\">\n",
       "      <th></th>\n",
       "      <th>feature</th>\n",
       "      <th>xgb_importance</th>\n",
       "    </tr>\n",
       "  </thead>\n",
       "  <tbody>\n",
       "    <tr>\n",
       "      <th>0</th>\n",
       "      <td>Density</td>\n",
       "      <td>0.387612</td>\n",
       "    </tr>\n",
       "    <tr>\n",
       "      <th>1</th>\n",
       "      <td>Water/solid ratio</td>\n",
       "      <td>0.229629</td>\n",
       "    </tr>\n",
       "    <tr>\n",
       "      <th>2</th>\n",
       "      <td>Gypsum</td>\n",
       "      <td>0.193789</td>\n",
       "    </tr>\n",
       "    <tr>\n",
       "      <th>3</th>\n",
       "      <td>Ladle slag</td>\n",
       "      <td>0.102852</td>\n",
       "    </tr>\n",
       "    <tr>\n",
       "      <th>4</th>\n",
       "      <td>Orujillo ash</td>\n",
       "      <td>0.022717</td>\n",
       "    </tr>\n",
       "    <tr>\n",
       "      <th>5</th>\n",
       "      <td>Coal Fly Ash</td>\n",
       "      <td>0.017784</td>\n",
       "    </tr>\n",
       "    <tr>\n",
       "      <th>6</th>\n",
       "      <td>Coal slag</td>\n",
       "      <td>0.010392</td>\n",
       "    </tr>\n",
       "    <tr>\n",
       "      <th>7</th>\n",
       "      <td>Portland concrete</td>\n",
       "      <td>0.006954</td>\n",
       "    </tr>\n",
       "    <tr>\n",
       "      <th>8</th>\n",
       "      <td>Cl2Mg</td>\n",
       "      <td>0.006800</td>\n",
       "    </tr>\n",
       "    <tr>\n",
       "      <th>9</th>\n",
       "      <td>Fiberglass</td>\n",
       "      <td>0.004132</td>\n",
       "    </tr>\n",
       "    <tr>\n",
       "      <th>10</th>\n",
       "      <td>Metallurgical slag</td>\n",
       "      <td>0.004069</td>\n",
       "    </tr>\n",
       "    <tr>\n",
       "      <th>11</th>\n",
       "      <td>Incineration ash</td>\n",
       "      <td>0.003488</td>\n",
       "    </tr>\n",
       "    <tr>\n",
       "      <th>12</th>\n",
       "      <td>Poplar ash</td>\n",
       "      <td>0.003278</td>\n",
       "    </tr>\n",
       "    <tr>\n",
       "      <th>13</th>\n",
       "      <td>Cardoon ash</td>\n",
       "      <td>0.002931</td>\n",
       "    </tr>\n",
       "    <tr>\n",
       "      <th>14</th>\n",
       "      <td>MgSO4</td>\n",
       "      <td>0.001557</td>\n",
       "    </tr>\n",
       "    <tr>\n",
       "      <th>15</th>\n",
       "      <td>Vermiculite</td>\n",
       "      <td>0.000738</td>\n",
       "    </tr>\n",
       "    <tr>\n",
       "      <th>16</th>\n",
       "      <td>PP Fiber</td>\n",
       "      <td>0.000681</td>\n",
       "    </tr>\n",
       "    <tr>\n",
       "      <th>17</th>\n",
       "      <td>AlOH3</td>\n",
       "      <td>0.000441</td>\n",
       "    </tr>\n",
       "    <tr>\n",
       "      <th>18</th>\n",
       "      <td>APC waste</td>\n",
       "      <td>0.000155</td>\n",
       "    </tr>\n",
       "    <tr>\n",
       "      <th>19</th>\n",
       "      <td>Orujillo slag</td>\n",
       "      <td>0.000000</td>\n",
       "    </tr>\n",
       "    <tr>\n",
       "      <th>20</th>\n",
       "      <td>MSW ash</td>\n",
       "      <td>0.000000</td>\n",
       "    </tr>\n",
       "    <tr>\n",
       "      <th>21</th>\n",
       "      <td>Rice husk ash</td>\n",
       "      <td>0.000000</td>\n",
       "    </tr>\n",
       "    <tr>\n",
       "      <th>22</th>\n",
       "      <td>Construction waste</td>\n",
       "      <td>0.000000</td>\n",
       "    </tr>\n",
       "  </tbody>\n",
       "</table>\n",
       "</div>"
      ],
      "text/plain": [
       "               feature  xgb_importance\n",
       "0              Density        0.387612\n",
       "1    Water/solid ratio        0.229629\n",
       "2               Gypsum        0.193789\n",
       "3           Ladle slag        0.102852\n",
       "4         Orujillo ash        0.022717\n",
       "5         Coal Fly Ash        0.017784\n",
       "6            Coal slag        0.010392\n",
       "7    Portland concrete        0.006954\n",
       "8                Cl2Mg        0.006800\n",
       "9           Fiberglass        0.004132\n",
       "10  Metallurgical slag        0.004069\n",
       "11    Incineration ash        0.003488\n",
       "12          Poplar ash        0.003278\n",
       "13         Cardoon ash        0.002931\n",
       "14               MgSO4        0.001557\n",
       "15         Vermiculite        0.000738\n",
       "16            PP Fiber        0.000681\n",
       "17               AlOH3        0.000441\n",
       "18           APC waste        0.000155\n",
       "19       Orujillo slag        0.000000\n",
       "20             MSW ash        0.000000\n",
       "21       Rice husk ash        0.000000\n",
       "22  Construction waste        0.000000"
      ]
     },
     "execution_count": 42,
     "metadata": {},
     "output_type": "execute_result"
    }
   ],
   "source": [
    "final_importance_df"
   ]
  },
  {
   "cell_type": "code",
   "execution_count": 43,
   "metadata": {},
   "outputs": [],
   "source": [
    "def get_feature_lists_by_threshold(df, threshold=0.99):\n",
    "    accumulated_sum = 0\n",
    "    include = []\n",
    "    exclude = []\n",
    "    \n",
    "    for index, row in df.iterrows():\n",
    "        if accumulated_sum + row['xgb_importance'] <= threshold:\n",
    "            include.append(row['feature'])\n",
    "            accumulated_sum += row['xgb_importance']\n",
    "        else:\n",
    "            exclude.append(row['feature'])\n",
    "            exclude.extend(df['feature'][index + 1:])\n",
    "            break\n",
    "    \n",
    "    return include, exclude"
   ]
  },
  {
   "cell_type": "code",
   "execution_count": 44,
   "metadata": {},
   "outputs": [
    {
     "name": "stdout",
     "output_type": "stream",
     "text": [
      "Include: ['Density', 'Water/solid ratio', 'Gypsum', 'Ladle slag', 'Orujillo ash', 'Coal Fly Ash', 'Coal slag', 'Portland concrete', 'Cl2Mg', 'Fiberglass', 'Metallurgical slag']\n",
      "Exclude: ['Incineration ash', 'Poplar ash', 'Cardoon ash', 'MgSO4', 'Vermiculite', 'PP Fiber', 'AlOH3', 'APC waste', 'Orujillo slag', 'MSW ash', 'Rice husk ash', 'Construction waste']\n"
     ]
    }
   ],
   "source": [
    "threshold = 0.99\n",
    "\n",
    "include, exclude = get_feature_lists_by_threshold(final_importance_df, threshold)\n",
    "\n",
    "print(\"Include:\", include)\n",
    "print(\"Exclude:\", exclude)"
   ]
  },
  {
   "cell_type": "code",
   "execution_count": 45,
   "metadata": {},
   "outputs": [],
   "source": [
    "df_balanced = df_balanced.drop(columns = exclude)"
   ]
  },
  {
   "cell_type": "code",
   "execution_count": 46,
   "metadata": {},
   "outputs": [
    {
     "data": {
      "text/html": [
       "<div>\n",
       "<style scoped>\n",
       "    .dataframe tbody tr th:only-of-type {\n",
       "        vertical-align: middle;\n",
       "    }\n",
       "\n",
       "    .dataframe tbody tr th {\n",
       "        vertical-align: top;\n",
       "    }\n",
       "\n",
       "    .dataframe thead th {\n",
       "        text-align: right;\n",
       "    }\n",
       "</style>\n",
       "<table border=\"1\" class=\"dataframe\">\n",
       "  <thead>\n",
       "    <tr style=\"text-align: right;\">\n",
       "      <th></th>\n",
       "      <th>Rc</th>\n",
       "      <th>Water/solid ratio</th>\n",
       "      <th>Density</th>\n",
       "      <th>Gypsum</th>\n",
       "      <th>Fiberglass</th>\n",
       "      <th>Coal Fly Ash</th>\n",
       "      <th>Portland concrete</th>\n",
       "      <th>Ladle slag</th>\n",
       "      <th>Orujillo ash</th>\n",
       "      <th>Cl2Mg</th>\n",
       "      <th>Metallurgical slag</th>\n",
       "      <th>Coal slag</th>\n",
       "      <th>CR</th>\n",
       "    </tr>\n",
       "  </thead>\n",
       "  <tbody>\n",
       "    <tr>\n",
       "      <th>0</th>\n",
       "      <td>1.320439</td>\n",
       "      <td>0.4</td>\n",
       "      <td>1309.000000</td>\n",
       "      <td>20.0</td>\n",
       "      <td>0.0</td>\n",
       "      <td>80.0</td>\n",
       "      <td>0.0</td>\n",
       "      <td>0.0</td>\n",
       "      <td>0.0</td>\n",
       "      <td>0.0</td>\n",
       "      <td>0.0</td>\n",
       "      <td>0.0</td>\n",
       "      <td>1 - 5 MPa</td>\n",
       "    </tr>\n",
       "    <tr>\n",
       "      <th>1</th>\n",
       "      <td>1.320439</td>\n",
       "      <td>0.4</td>\n",
       "      <td>1371.000000</td>\n",
       "      <td>20.0</td>\n",
       "      <td>0.0</td>\n",
       "      <td>80.0</td>\n",
       "      <td>0.0</td>\n",
       "      <td>0.0</td>\n",
       "      <td>0.0</td>\n",
       "      <td>0.0</td>\n",
       "      <td>0.0</td>\n",
       "      <td>0.0</td>\n",
       "      <td>1 - 5 MPa</td>\n",
       "    </tr>\n",
       "    <tr>\n",
       "      <th>2</th>\n",
       "      <td>0.700407</td>\n",
       "      <td>0.4</td>\n",
       "      <td>849.841788</td>\n",
       "      <td>20.0</td>\n",
       "      <td>0.0</td>\n",
       "      <td>80.0</td>\n",
       "      <td>0.0</td>\n",
       "      <td>0.0</td>\n",
       "      <td>0.0</td>\n",
       "      <td>0.0</td>\n",
       "      <td>0.0</td>\n",
       "      <td>0.0</td>\n",
       "      <td>0 - 1 MPa</td>\n",
       "    </tr>\n",
       "    <tr>\n",
       "      <th>3</th>\n",
       "      <td>0.953013</td>\n",
       "      <td>0.4</td>\n",
       "      <td>1042.269832</td>\n",
       "      <td>20.0</td>\n",
       "      <td>0.0</td>\n",
       "      <td>80.0</td>\n",
       "      <td>0.0</td>\n",
       "      <td>0.0</td>\n",
       "      <td>0.0</td>\n",
       "      <td>0.0</td>\n",
       "      <td>0.0</td>\n",
       "      <td>0.0</td>\n",
       "      <td>0 - 1 MPa</td>\n",
       "    </tr>\n",
       "    <tr>\n",
       "      <th>4</th>\n",
       "      <td>0.998941</td>\n",
       "      <td>0.4</td>\n",
       "      <td>1050.458259</td>\n",
       "      <td>20.0</td>\n",
       "      <td>0.0</td>\n",
       "      <td>80.0</td>\n",
       "      <td>0.0</td>\n",
       "      <td>0.0</td>\n",
       "      <td>0.0</td>\n",
       "      <td>0.0</td>\n",
       "      <td>0.0</td>\n",
       "      <td>0.0</td>\n",
       "      <td>0 - 1 MPa</td>\n",
       "    </tr>\n",
       "  </tbody>\n",
       "</table>\n",
       "</div>"
      ],
      "text/plain": [
       "         Rc  Water/solid ratio      Density  Gypsum  Fiberglass  Coal Fly Ash  \\\n",
       "0  1.320439                0.4  1309.000000    20.0         0.0          80.0   \n",
       "1  1.320439                0.4  1371.000000    20.0         0.0          80.0   \n",
       "2  0.700407                0.4   849.841788    20.0         0.0          80.0   \n",
       "3  0.953013                0.4  1042.269832    20.0         0.0          80.0   \n",
       "4  0.998941                0.4  1050.458259    20.0         0.0          80.0   \n",
       "\n",
       "   Portland concrete  Ladle slag  Orujillo ash  Cl2Mg  Metallurgical slag  \\\n",
       "0                0.0         0.0           0.0    0.0                 0.0   \n",
       "1                0.0         0.0           0.0    0.0                 0.0   \n",
       "2                0.0         0.0           0.0    0.0                 0.0   \n",
       "3                0.0         0.0           0.0    0.0                 0.0   \n",
       "4                0.0         0.0           0.0    0.0                 0.0   \n",
       "\n",
       "   Coal slag         CR  \n",
       "0        0.0  1 - 5 MPa  \n",
       "1        0.0  1 - 5 MPa  \n",
       "2        0.0  0 - 1 MPa  \n",
       "3        0.0  0 - 1 MPa  \n",
       "4        0.0  0 - 1 MPa  "
      ]
     },
     "execution_count": 46,
     "metadata": {},
     "output_type": "execute_result"
    }
   ],
   "source": [
    "df_balanced.head()"
   ]
  },
  {
   "cell_type": "code",
   "execution_count": 47,
   "metadata": {},
   "outputs": [],
   "source": [
    "drop = ['Rc']"
   ]
  },
  {
   "cell_type": "code",
   "execution_count": 48,
   "metadata": {},
   "outputs": [],
   "source": [
    "df_balanced = df_balanced.drop(columns = drop)"
   ]
  },
  {
   "cell_type": "code",
   "execution_count": 49,
   "metadata": {
    "scrolled": true
   },
   "outputs": [
    {
     "data": {
      "text/html": [
       "<div>\n",
       "<style scoped>\n",
       "    .dataframe tbody tr th:only-of-type {\n",
       "        vertical-align: middle;\n",
       "    }\n",
       "\n",
       "    .dataframe tbody tr th {\n",
       "        vertical-align: top;\n",
       "    }\n",
       "\n",
       "    .dataframe thead th {\n",
       "        text-align: right;\n",
       "    }\n",
       "</style>\n",
       "<table border=\"1\" class=\"dataframe\">\n",
       "  <thead>\n",
       "    <tr style=\"text-align: right;\">\n",
       "      <th></th>\n",
       "      <th>Water/solid ratio</th>\n",
       "      <th>Density</th>\n",
       "      <th>Gypsum</th>\n",
       "      <th>Fiberglass</th>\n",
       "      <th>Coal Fly Ash</th>\n",
       "      <th>Portland concrete</th>\n",
       "      <th>Ladle slag</th>\n",
       "      <th>Orujillo ash</th>\n",
       "      <th>Cl2Mg</th>\n",
       "      <th>Metallurgical slag</th>\n",
       "      <th>Coal slag</th>\n",
       "      <th>CR</th>\n",
       "    </tr>\n",
       "  </thead>\n",
       "  <tbody>\n",
       "    <tr>\n",
       "      <th>0</th>\n",
       "      <td>0.4</td>\n",
       "      <td>1309.000000</td>\n",
       "      <td>20.0</td>\n",
       "      <td>0.0</td>\n",
       "      <td>80.0</td>\n",
       "      <td>0.0</td>\n",
       "      <td>0.0</td>\n",
       "      <td>0.0</td>\n",
       "      <td>0.0</td>\n",
       "      <td>0.0</td>\n",
       "      <td>0.0</td>\n",
       "      <td>1 - 5 MPa</td>\n",
       "    </tr>\n",
       "    <tr>\n",
       "      <th>1</th>\n",
       "      <td>0.4</td>\n",
       "      <td>1371.000000</td>\n",
       "      <td>20.0</td>\n",
       "      <td>0.0</td>\n",
       "      <td>80.0</td>\n",
       "      <td>0.0</td>\n",
       "      <td>0.0</td>\n",
       "      <td>0.0</td>\n",
       "      <td>0.0</td>\n",
       "      <td>0.0</td>\n",
       "      <td>0.0</td>\n",
       "      <td>1 - 5 MPa</td>\n",
       "    </tr>\n",
       "    <tr>\n",
       "      <th>2</th>\n",
       "      <td>0.4</td>\n",
       "      <td>849.841788</td>\n",
       "      <td>20.0</td>\n",
       "      <td>0.0</td>\n",
       "      <td>80.0</td>\n",
       "      <td>0.0</td>\n",
       "      <td>0.0</td>\n",
       "      <td>0.0</td>\n",
       "      <td>0.0</td>\n",
       "      <td>0.0</td>\n",
       "      <td>0.0</td>\n",
       "      <td>0 - 1 MPa</td>\n",
       "    </tr>\n",
       "    <tr>\n",
       "      <th>3</th>\n",
       "      <td>0.4</td>\n",
       "      <td>1042.269832</td>\n",
       "      <td>20.0</td>\n",
       "      <td>0.0</td>\n",
       "      <td>80.0</td>\n",
       "      <td>0.0</td>\n",
       "      <td>0.0</td>\n",
       "      <td>0.0</td>\n",
       "      <td>0.0</td>\n",
       "      <td>0.0</td>\n",
       "      <td>0.0</td>\n",
       "      <td>0 - 1 MPa</td>\n",
       "    </tr>\n",
       "    <tr>\n",
       "      <th>4</th>\n",
       "      <td>0.4</td>\n",
       "      <td>1050.458259</td>\n",
       "      <td>20.0</td>\n",
       "      <td>0.0</td>\n",
       "      <td>80.0</td>\n",
       "      <td>0.0</td>\n",
       "      <td>0.0</td>\n",
       "      <td>0.0</td>\n",
       "      <td>0.0</td>\n",
       "      <td>0.0</td>\n",
       "      <td>0.0</td>\n",
       "      <td>0 - 1 MPa</td>\n",
       "    </tr>\n",
       "  </tbody>\n",
       "</table>\n",
       "</div>"
      ],
      "text/plain": [
       "   Water/solid ratio      Density  Gypsum  Fiberglass  Coal Fly Ash  \\\n",
       "0                0.4  1309.000000    20.0         0.0          80.0   \n",
       "1                0.4  1371.000000    20.0         0.0          80.0   \n",
       "2                0.4   849.841788    20.0         0.0          80.0   \n",
       "3                0.4  1042.269832    20.0         0.0          80.0   \n",
       "4                0.4  1050.458259    20.0         0.0          80.0   \n",
       "\n",
       "   Portland concrete  Ladle slag  Orujillo ash  Cl2Mg  Metallurgical slag  \\\n",
       "0                0.0         0.0           0.0    0.0                 0.0   \n",
       "1                0.0         0.0           0.0    0.0                 0.0   \n",
       "2                0.0         0.0           0.0    0.0                 0.0   \n",
       "3                0.0         0.0           0.0    0.0                 0.0   \n",
       "4                0.0         0.0           0.0    0.0                 0.0   \n",
       "\n",
       "   Coal slag         CR  \n",
       "0        0.0  1 - 5 MPa  \n",
       "1        0.0  1 - 5 MPa  \n",
       "2        0.0  0 - 1 MPa  \n",
       "3        0.0  0 - 1 MPa  \n",
       "4        0.0  0 - 1 MPa  "
      ]
     },
     "execution_count": 49,
     "metadata": {},
     "output_type": "execute_result"
    }
   ],
   "source": [
    "df_balanced.head()"
   ]
  },
  {
   "cell_type": "code",
   "execution_count": 50,
   "metadata": {},
   "outputs": [],
   "source": [
    "df_balanced.to_excel(path + 'CR_FS_class.xlsx', index=False)"
   ]
  }
 ],
 "metadata": {
  "colab": {
   "provenance": []
  },
  "kernelspec": {
   "display_name": "fs",
   "language": "python",
   "name": "fs"
  },
  "language_info": {
   "codemirror_mode": {
    "name": "ipython",
    "version": 3
   },
   "file_extension": ".py",
   "mimetype": "text/x-python",
   "name": "python",
   "nbconvert_exporter": "python",
   "pygments_lexer": "ipython3",
   "version": "3.9.18"
  }
 },
 "nbformat": 4,
 "nbformat_minor": 4
}
